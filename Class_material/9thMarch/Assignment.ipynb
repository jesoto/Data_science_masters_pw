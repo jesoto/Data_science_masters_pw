{
 "cells": [
  {
   "attachments": {},
   "cell_type": "markdown",
   "metadata": {},
   "source": [
    "# Assignment"
   ]
  },
  {
   "attachments": {},
   "cell_type": "markdown",
   "metadata": {},
   "source": [
    "1. What are the Probability Mass Function (PMF) and Probability Density Function (PDF)? Explain with\n",
    "an example.\n",
    "\n",
    "- Probability Mass Function (PMF):\n",
    "\n",
    "    The PMF is used for discrete random variables, which are variables that can only takes on a finite or countably infinite number of values. It defines the probabilitu of each possible value of the random varaible. The PMF gives the probability of observing a specific value, and it satisfies two properties: all probabilities are non negative and the sum of all probabilities is equal to 1.\n",
    "     \n",
    "    Example:\n",
    "\n",
    "    Lets consider a fair six sided die. The possible values that can ve obtained are 1,2,3,4,5,6 each with an equal probabilitu of 1/6. The PMF of this random variable would assign a probability of 1/6 ot each of these values, and the PMF would be defined as follows:\n",
    "\n",
    "        PMF(1) = 1/6        \n",
    "        PMF(2) = 1/6\n",
    "        PMF(3) = 1/6\n",
    "        PMF(4) = 1/6\n",
    "        PMF(5) = 1/6\n",
    "        PMF(6) = 1/6\n",
    "\n",
    "\n",
    "- Probability Density Function (PDF):\n",
    "\n",
    "    The PDF is used for continuous random variables, which are variables that can take on any value within a certain range. The PDF defines the probability distribution by specifying the likelihood of the random variable falling within a particular interval. Unlike the PMF, the PDF itself does not give the probability of a specific value since the probability of any single point in a continuous distribution is technically zero. Instead, the PDF represents the relative likelihood of different outcomes.\n",
    "\n",
    "    Example: Let's consider the height of adult males in a population. The height is a continuous random variable that can take on any value within a range (e.g., between 150 cm and 200 cm). The PDF would describe the likelihood of observing different heights. For simplicity, let's assume that the distribution follows a normal distribution. The PDF would take the shape of a bell curve, with the highest point at the mean height.\n",
    "\n",
    "\n",
    "\n"
   ]
  },
  {
   "attachments": {},
   "cell_type": "markdown",
   "metadata": {},
   "source": [
    "2. What is Cumulative Density Function (CDF)? Explain with an example. Why CDF is used?\n",
    "\n",
    "- The cumulative density function is a concept used in probability theory and statistics to describe the cumulative probabilitu distribution of a random varaible. It gives the probabilitu that a random variable takes on a value less than or equal to a given value.\n",
    "\n",
    "    Example:\n",
    "\n",
    "    Lets consider a fair six sided die. The CDF of this random variable would indicate the probability of obtaining a value less than or equal to a given value. For each possible value, the cdf qpuld increase by the probability associated with that value.\n",
    "\n",
    "\n",
    "    CDF(1) = 1/6\n",
    "    CDF(2) = 2/6\n",
    "    CDF(3) = 3/6\n",
    "    CDF(4) = 4/6\n",
    "    CDF(5) = 5/6\n",
    "    CDF(6) = 1\n",
    "    \n",
    "- Why is CDF used?\n",
    "    The CDF is useful for several reasons:\n",
    "\n",
    "    - Probability Calculation: The CDF allows us to calculate the probability of a random variable taking on a value less than or equal to a given value. This is particularly helpful in determining percentiles or quantiles of a distribution.\n",
    "\n",
    "    - Distribution Comparison: The CDF can be used to compare different probability distributions. By comparing the CDFs of two random variables, we can assess which distribution has a higher probability of smaller or larger values.\n",
    "\n",
    "    - Random Variable Analysis: The CDF provides a comprehensive summary of the probability distribution of a random variable. It allows us to understand the overall behavior of the variable and analyze its characteristics, such as the median, quartiles, and range.\n",
    "\n",
    "    - Random Variable Transformations: The CDF is also essential for transforming random variables. By applying the inverse of the CDF to a random variable uniformly distributed between 0 and 1 (known as a uniform random variable), we can generate random values that follow a desired probability distribution."
   ]
  },
  {
   "attachments": {},
   "cell_type": "markdown",
   "metadata": {},
   "source": [
    "3. What are some examples of situations where the normal distribution might be used as a model?\n",
    "Explain how the parameters of the normal distribution relate to the shape of the distribution."
   ]
  },
  {
   "attachments": {},
   "cell_type": "markdown",
   "metadata": {},
   "source": [
    "4. Explain the importance of Normal Distribution. Give a few real-life examples of Normal\n",
    "Distribution."
   ]
  },
  {
   "attachments": {},
   "cell_type": "markdown",
   "metadata": {},
   "source": [
    "5. What is Bernaulli Distribution? Give an Example. What is the difference between Bernoulli\n",
    "Distribution and Binomial Distribution?"
   ]
  },
  {
   "attachments": {},
   "cell_type": "markdown",
   "metadata": {},
   "source": [
    "6. Consider a dataset with a mean of 50 and a standard deviation of 10. If we assume that the dataset\n",
    "is normally distributed, what is the probability that a randomly selected observation will be greater\n",
    "than 60? Use the appropriate formula and show your calculations."
   ]
  },
  {
   "attachments": {},
   "cell_type": "markdown",
   "metadata": {},
   "source": [
    "7. Explain uniform Distribution with an example."
   ]
  },
  {
   "attachments": {},
   "cell_type": "markdown",
   "metadata": {},
   "source": [
    "8. What is the z score? State the importance of the z score."
   ]
  },
  {
   "attachments": {},
   "cell_type": "markdown",
   "metadata": {},
   "source": [
    "9. What is Central Limit Theorem? State the significance of the Central Limit Theorem."
   ]
  },
  {
   "attachments": {},
   "cell_type": "markdown",
   "metadata": {},
   "source": [
    "10. State the assumptions of the Central Limit Theorem."
   ]
  },
  {
   "cell_type": "code",
   "execution_count": null,
   "metadata": {},
   "outputs": [],
   "source": []
  }
 ],
 "metadata": {
  "language_info": {
   "name": "python"
  },
  "orig_nbformat": 4
 },
 "nbformat": 4,
 "nbformat_minor": 2
}
