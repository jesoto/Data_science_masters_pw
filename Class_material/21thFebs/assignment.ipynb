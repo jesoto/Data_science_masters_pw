{
 "cells": [
  {
   "attachments": {},
   "cell_type": "markdown",
   "metadata": {},
   "source": [
    "# Assignment "
   ]
  },
  {
   "attachments": {},
   "cell_type": "markdown",
   "metadata": {},
   "source": [
    "1. What is Web Scraping? Why is it Used? Give three areas where Web Scraping is used to get data."
   ]
  },
  {
   "attachments": {},
   "cell_type": "markdown",
   "metadata": {},
   "source": [
    "Web scraping is the process of extracting data from websites using automated software or tools, also known as web crawlers or spiders. It involves parsing the HTML or other structured data on a webpage and then extracting the relevant information for analysis, storage, or further use. Web scraping is used for various purposes such as data mining, market research, and competitive analysis, among others.\n",
    "\n",
    "Here are three areas where web scraping is commonly used:\n",
    "\n",
    "- E-commerce: Web scraping is widely used in the e-commerce industry to collect product information, pricing data, and customer reviews from various online retailers. This data can be used for market research, price monitoring, and competitive analysis.\n",
    "\n",
    "- Social media: Web scraping is used in social media to collect user-generated content such as posts, comments, and reviews. This data can be used for sentiment analysis, trend analysis, and social listening.\n",
    "\n",
    "- Finance: Web scraping is used in finance to collect financial data such as stock prices, economic indicators, and news articles. This data can be used for market research, investment analysis, and risk management."
   ]
  },
  {
   "attachments": {},
   "cell_type": "markdown",
   "metadata": {},
   "source": [
    "2. What are the different methods used for Web Scraping?"
   ]
  },
  {
   "attachments": {},
   "cell_type": "markdown",
   "metadata": {},
   "source": [
    "- Parsing HTML: This is the most common method of web scraping. It involves using a programming language such as Python or JavaScript to parse the HTML code of a webpage and extract the relevant information.\n",
    "\n",
    "- Using APIs: Some websites offer APIs (Application Programming Interfaces) that allow developers to access their data in a structured format. This method can be faster and more efficient than parsing HTML, but it requires knowledge of the API and may come with restrictions on data access.\n",
    "\n",
    "- Headless Browsers: Headless browsers such as Puppeteer or Selenium can automate web scraping tasks by emulating the behavior of a user navigating a website. This method can be more reliable than parsing HTML, as it can handle dynamic content and user authentication.\n",
    "\n",
    "- Scraping tools: There are many scraping tools available that can automate web scraping tasks without requiring programming skills. These tools may use a combination of parsing HTML and headless browsers to extract data.\n",
    "\n",
    "- Web scraping services: Some companies offer web scraping services that allow businesses to outsource their data extraction needs. These services may use a combination of the above methods and can be customized to meet specific requirements."
   ]
  },
  {
   "attachments": {},
   "cell_type": "markdown",
   "metadata": {},
   "source": [
    "3. What is Beautiful Soup? Why is it used?"
   ]
  },
  {
   "attachments": {},
   "cell_type": "markdown",
   "metadata": {},
   "source": [
    "Beautiful Soup is a Python library used for web scraping purposes. It provides a convenient and easy-to-use interface for parsing HTML and XML documents, allowing developers to extract relevant data from web pages.\n",
    "\n",
    "Beautiful Soup is used for several reasons, including:\n",
    "\n",
    "- Parsing HTML: Beautiful Soup can be used to parse HTML code and extract the relevant information from web pages. This can be useful for data extraction, web scraping, and other web-related tasks.\n",
    "\n",
    "- Handling poorly formatted HTML: Beautiful Soup is designed to handle poorly formatted HTML code and still extract the relevant information. This can be useful when scraping web pages that do not conform to standard HTML syntax.\n",
    "\n",
    "- Navigating the parse tree: Beautiful Soup allows developers to navigate the parse tree of a document, making it easy to locate specific elements and extract data.\n",
    "\n",
    "- Integration with other libraries: Beautiful Soup integrates well with other Python libraries such as Requests for sending HTTP requests, and Pandas for data manipulation."
   ]
  },
  {
   "attachments": {},
   "cell_type": "markdown",
   "metadata": {},
   "source": [
    "4. Why is flask used in this Web Scraping project?"
   ]
  },
  {
   "attachments": {},
   "cell_type": "markdown",
   "metadata": {},
   "source": [
    "Flask is a lightweight and flexible web framework for Python. It is often used for building web applications and APIs due to its simplicity and ease of use. In a web scraping project, Flask can be used to create a simple web interface that allows users to enter search terms or URLs, and then displays the scraped data in a user-friendly way.\n",
    "\n",
    "Flask can also be used to host the web scraping script, making it easy to deploy and run the script on a server or in the cloud. Flask provides an easy-to-use development server, as well as production-ready deployment options.\n",
    "\n",
    "In a web scraping project, Flask can be used to:\n",
    "\n",
    "- Provide a simple web interface for users to enter search terms or URLs\n",
    "- Display the scraped data in a user-friendly way, such as a table or graph\n",
    "- Host the web scraping script, making it easy to deploy and run on a server or in the cloud\n",
    "- Provide a RESTful API for other applications or services to access the scraped data."
   ]
  },
  {
   "attachments": {},
   "cell_type": "markdown",
   "metadata": {},
   "source": [
    "5. Write the names of AWS services used in this project. Also, explain the use of each service."
   ]
  },
  {
   "attachments": {},
   "cell_type": "markdown",
   "metadata": {},
   "source": [
    "- CodePipeline provides a visual interface for creating and managing the steps of the release process, which can include building and testing code, deploying it to a staging environment for further testing, and then promoting it to production. Each step in the process can be automated using a variety of AWS services, such as AWS CodeBuild for building and testing, and AWS Elastic Beanstalk for deployment.\n",
    "- AWS Elastic Beanstalk is a fully managed service that makes it easy to deploy and run web applications at scale. With Elastic Beanstalk, you can deploy web applications developed in Java, .NET, PHP, Node.js, Python, Ruby, Go, and Docker on AWS infrastructure."
   ]
  }
 ],
 "metadata": {
  "language_info": {
   "name": "python"
  },
  "orig_nbformat": 4
 },
 "nbformat": 4,
 "nbformat_minor": 2
}
