{
 "cells": [
  {
   "attachments": {},
   "cell_type": "markdown",
   "metadata": {},
   "source": [
    "# Assignment"
   ]
  },
  {
   "attachments": {},
   "cell_type": "markdown",
   "metadata": {},
   "source": [
    "1. What is the Probability density function?\n",
    "- The probability density function (PDF) es a concept in probability theory and statistics that describes the probability of a continuous random varaible. It provides the likelihood of a random variable aking on a specific value or falling within a certain range of values."
   ]
  },
  {
   "attachments": {},
   "cell_type": "markdown",
   "metadata": {},
   "source": [
    "2. What are the types of Probability distribution?\n",
    "\n",
    "- There are various types of probability distributions, each with its own characteristics and applications. Some of the commonly encountered probability distributions include:\n",
    "\n",
    "    - Uniform\n",
    "    - Normal distribution\n",
    "    - Binomial distribution\n",
    "    - Poisson Distribution\n",
    "    - Exponential distribution\n",
    "    - Gamma Ditribution\n",
    "    - Chi- Square distribution\n",
    "    - Student's t-Distribution\n"
   ]
  },
  {
   "attachments": {},
   "cell_type": "markdown",
   "metadata": {},
   "source": [
    "3. Write a Python function to calculate the probability density function of a normal distribution with\n",
    "given mean and standard deviation at a given point."
   ]
  },
  {
   "cell_type": "code",
   "execution_count": 1,
   "metadata": {},
   "outputs": [
    {
     "name": "stdout",
     "output_type": "stream",
     "text": [
      "The PDF at x = 1.5 is: 0.12951759566589174\n"
     ]
    }
   ],
   "source": [
    "import math\n",
    "\n",
    "def normal_pdf(x, mean, std_dev):\n",
    "    \"\"\"\n",
    "    Calculates the probability density function (PDF) of a normal distribution at a given point.\n",
    "    \n",
    "    Arguments:\n",
    "    x -- The point at which to evaluate the PDF.\n",
    "    mean -- The mean of the normal distribution.\n",
    "    std_dev -- The standard deviation of the normal distribution.\n",
    "    \n",
    "    Returns:\n",
    "    The PDF value at the given point.\n",
    "    \"\"\"\n",
    "    coefficient = 1 / (std_dev * math.sqrt(2 * math.pi))\n",
    "    exponent = -(math.pow(x - mean, 2) / (2 * math.pow(std_dev, 2)))\n",
    "    pdf = coefficient * math.exp(exponent)\n",
    "    return pdf\n",
    "\n",
    "mean = 0\n",
    "std_dev = 1\n",
    "x = 1.5\n",
    "\n",
    "pdf_value = normal_pdf(x, mean, std_dev)\n",
    "print(f\"The PDF at x = {x} is: {pdf_value}\")\n",
    "\n"
   ]
  },
  {
   "attachments": {},
   "cell_type": "markdown",
   "metadata": {},
   "source": [
    "4. What are the properties of Binomial distribution? Give two examples of events where binomial\n",
    "distribution can be applied."
   ]
  },
  {
   "attachments": {},
   "cell_type": "markdown",
   "metadata": {},
   "source": [
    "The Binomial distribution has several key properties:\n",
    "\n",
    "- Fixed number of trials: The distribution models the number of successes in a fixed number of independent trials.\n",
    "\n",
    "- Independent trials: Each trial must be independent of each other, meaning the outcome of one trial does not affect the outcomes of other trials.\n",
    "\n",
    "- Two possible outcomes: Each trial has only two possible outcomes, typically labeled as success and failure.\n",
    "\n",
    "- Constant probability of success: The probability of success remains constant for each trial. It is denoted as p.\n",
    "\n",
    "- Discrete distribution: The Binomial distribution is a discrete probability distribution, as it deals with a count of successes.\n",
    "\n",
    "Two examples where the Binomial distribution can be applied are:\n",
    "\n",
    "- Coin Flips: Suppose you are flipping a fair coin multiple times and counting the number of heads. Each flip is an independent trial, and there are two possible outcomes (heads or tails) with a constant probability of success (0.5 for a fair coin). The Binomial distribution can be used to calculate the probability of obtaining a specific number of heads in a given number of flips.\n",
    "\n",
    "- Product Defects: Imagine a manufacturing process where products are inspected for defects. Each product can be considered an independent trial, and the outcome can be categorized as either defective or non-defective. The probability of a defective product remains constant. The Binomial distribution can be used to determine the probability of obtaining a certain number of defective products in a given sample size."
   ]
  },
  {
   "attachments": {},
   "cell_type": "markdown",
   "metadata": {},
   "source": [
    "5. Generate a random sample of size 1000 from a binomial distribution with probability of success 0.4\n",
    "and plot a histogram of the results using matplotlib."
   ]
  },
  {
   "cell_type": "code",
   "execution_count": 2,
   "metadata": {},
   "outputs": [
    {
     "data": {
      "image/png": "[encoded data removed]",
      "text/plain": [
       "<Figure size 640x480 with 1 Axes>"
      ]
     },
     "metadata": {},
     "output_type": "display_data"
    }
   ],
   "source": [
    "import numpy as np\n",
    "import matplotlib.pyplot as plt\n",
    "\n",
    "# Set the parameters\n",
    "sample_size = 1000\n",
    "probability_of_success = 0.4\n",
    "\n",
    "# Generate the random sample\n",
    "sample = np.random.binomial(1, probability_of_success, size=sample_size)\n",
    "\n",
    "# Plot the histogram\n",
    "plt.hist(sample, bins=2, rwidth=0.8, color='skyblue', alpha=0.7)\n",
    "plt.xlabel('Success or Failure')\n",
    "plt.ylabel('Frequency')\n",
    "plt.title('Histogram of Binomial Distribution')\n",
    "plt.xticks([0.25, 0.75], ['Failure', 'Success'])\n",
    "plt.yticks(np.arange(0, max(np.bincount(sample))+1, 50))\n",
    "plt.grid(axis='y', alpha=0.5)\n",
    "plt.show()\n"
   ]
  },
  {
   "attachments": {},
   "cell_type": "markdown",
   "metadata": {},
   "source": [
    "6. Write a Python function to calculate the cumulative distribution function of a Poisson distribution\n",
    "with given mean at a given point."
   ]
  },
  {
   "cell_type": "code",
   "execution_count": 3,
   "metadata": {},
   "outputs": [
    {
     "name": "stdout",
     "output_type": "stream",
     "text": [
      "The CDF at x = 3 is: 0.7575761331330659\n"
     ]
    }
   ],
   "source": [
    "import math\n",
    "\n",
    "def poisson_cdf(x, mean):\n",
    "    \"\"\"\n",
    "    Calculates the cumulative distribution function (CDF) of a Poisson distribution at a given point.\n",
    "    \n",
    "    Arguments:\n",
    "    x -- The point at which to evaluate the CDF.\n",
    "    mean -- The mean of the Poisson distribution.\n",
    "    \n",
    "    Returns:\n",
    "    The CDF value at the given point.\n",
    "    \"\"\"\n",
    "    cdf = 0\n",
    "    for i in range(x + 1):\n",
    "        cdf += (math.exp(-mean) * math.pow(mean, i)) / math.factorial(i)\n",
    "    return cdf\n",
    "\n",
    "mean = 2.5\n",
    "x = 3\n",
    "\n",
    "cdf_value = poisson_cdf(x, mean)\n",
    "print(f\"The CDF at x = {x} is: {cdf_value}\")\n"
   ]
  },
  {
   "attachments": {},
   "cell_type": "markdown",
   "metadata": {},
   "source": [
    "7. How Binomial distribution different from Poisson distribution?"
   ]
  },
  {
   "attachments": {},
   "cell_type": "markdown",
   "metadata": {},
   "source": [
    "The Binomial distribution and the Poisson distribution are both probability distributions used to model the number of events or successes in a certain scenario. However, they differ in several key aspects:\n",
    "\n",
    "- Nature of Events: The Binomial distribution models the number of successes in a fixed number of independent trials, where each trial has two possible outcomes (success or failure). In contrast, the Poisson distribution models the number of events occurring in a fixed interval of time or space, given the average rate of occurrence. The Poisson distribution does not involve a fixed number of trials.\n",
    "\n",
    "- Parameters: The Binomial distribution is characterized by two parameters: the number of trials (n) and the probability of success in each trial (p). The Poisson distribution, on the other hand, is characterized by a single parameter: the average rate of occurrence (λ).\n",
    "\n",
    "- Probability Mass Function vs. Probability Density Function: The Binomial distribution is a discrete distribution, meaning it deals with a count of successes, and its probability is described by a probability mass function (PMF). The Poisson distribution, on the other hand, is often used for modeling rare events and is a discrete distribution as well. However, it is commonly approximated by a continuous distribution due to its limiting behavior for large values of λ. In this case, the Poisson distribution has a probability density function (PDF).\n",
    "\n",
    "- Assumptions: The Binomial distribution assumes independent and identically distributed (i.i.d.) trials, where the probability of success remains constant for each trial. The Poisson distribution assumes that the events occur independently of each other and with a constant average rate.\n",
    "\n",
    "- Range: The Binomial distribution is defined for a finite range of values, typically from 0 to n (the number of trials), since it deals with a fixed number of trials. The Poisson distribution, however, is defined for an infinite range of values, as it represents the count of events occurring in a continuous interval."
   ]
  },
  {
   "attachments": {},
   "cell_type": "markdown",
   "metadata": {},
   "source": [
    "8. Generate a random sample of size 1000 from a Poisson distribution with mean 5 and calculate the\n",
    "sample mean and variance."
   ]
  },
  {
   "cell_type": "code",
   "execution_count": 4,
   "metadata": {},
   "outputs": [
    {
     "name": "stdout",
     "output_type": "stream",
     "text": [
      "Sample Mean: 4.883\n",
      "Sample Variance: 4.901311\n"
     ]
    }
   ],
   "source": [
    "import numpy as np\n",
    "\n",
    "# Set the parameters\n",
    "sample_size = 1000\n",
    "mean = 5\n",
    "\n",
    "# Generate the random sample\n",
    "sample = np.random.poisson(mean, size=sample_size)\n",
    "\n",
    "# Calculate the sample mean and variance\n",
    "sample_mean = np.mean(sample)\n",
    "sample_variance = np.var(sample)\n",
    "\n",
    "print(\"Sample Mean:\", sample_mean)\n",
    "print(\"Sample Variance:\", sample_variance)\n"
   ]
  },
  {
   "attachments": {},
   "cell_type": "markdown",
   "metadata": {},
   "source": [
    "9. How mean and variance are related in Binomial distribution and Poisson distribution?"
   ]
  },
  {
   "attachments": {},
   "cell_type": "markdown",
   "metadata": {},
   "source": [
    "In both the Binomial distribution and the Poisson distribution, the mean and variance are related in a specific way:\n",
    "\n",
    "For the Binomial distribution:\n",
    "\n",
    "- Mean: The mean of a Binomial distribution is given by the product of the number of trials (n) and the probability of success in each trial (p). Mean = n * p.\n",
    "- Variance: The variance of a Binomial distribution is given by the product of the number of trials (n), the probability of success in each trial (p), and the probability of failure in each trial (q = 1 - p). Variance = n * p * q.\n",
    "\n",
    "\n",
    "For the Poisson distribution:\n",
    "\n",
    "- Mean: The mean of a Poisson distribution is equal to its parameter, which represents the average rate of occurrence (λ). Mean = λ.\n",
    "- Variance: The variance of a Poisson distribution is also equal to its parameter, which is the average rate of occurrence (λ). Variance = λ.\n",
    "\\\n",
    "\n",
    "In both distributions, the mean and variance are equal. This property is often referred to as \"mean equals variance\" or \"equidispersion\" property. It means that in both cases, the spread of the distribution is directly proportional to the average rate of occurrence or the expected number of successes.\n",
    "\n",
    "This relationship indicates that as the mean or average rate of occurrence increases, the spread or variability of the distribution also increases. On the other hand, if the mean or average rate of occurrence decreases, the spread or variability of the distribution decreases."
   ]
  },
  {
   "attachments": {},
   "cell_type": "markdown",
   "metadata": {},
   "source": [
    "10. In normal distribution with respect to mean position, where does the least frequent data appear?"
   ]
  },
  {
   "attachments": {},
   "cell_type": "markdown",
   "metadata": {},
   "source": [
    "In a normal distribution, the least frequent data appears in the tails of the distribution, away from the mean. The normal distribution is symmetric, so the mean is located at the center of the distribution. The tails of the distribution represent the extreme values, which occur less frequently compared to the values closer to the mean.\n",
    "\n",
    "In a standard normal distribution (with a mean of 0 and a standard deviation of 1), approximately 68% of the data falls within one standard deviation of the mean, 95% falls within two standard deviations, and 99.7% falls within three standard deviations. Therefore, the data in the tails (beyond three standard deviations from the mean) is less frequent, accounting for only a small percentage of the total data.\n",
    "\n",
    "In general, as you move further away from the mean in either direction, the likelihood of observing data decreases. This is because the normal distribution follows a bell-shaped curve, and the probability density decreases as you move away from the mean."
   ]
  }
 ],
 "metadata": {
  "kernelspec": {
   "display_name": "base",
   "language": "python",
   "name": "python3"
  },
  "language_info": {
   "codemirror_mode": {
    "name": "ipython",
    "version": 3
   },
   "file_extension": ".py",
   "mimetype": "text/x-python",
   "name": "python",
   "nbconvert_exporter": "python",
   "pygments_lexer": "ipython3",
   "version": "3.9.16"
  },
  "orig_nbformat": 4
 },
 "nbformat": 4,
 "nbformat_minor": 2
}
