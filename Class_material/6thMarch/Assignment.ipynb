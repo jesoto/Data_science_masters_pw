{
 "cells": [
  {
   "attachments": {},
   "cell_type": "markdown",
   "metadata": {},
   "source": [
    "# Assignment"
   ]
  },
  {
   "attachments": {},
   "cell_type": "markdown",
   "metadata": {},
   "source": [
    "1. What is Statistics?\n",
    "- statistics is the science of collecting, organizing and analysing the data"
   ]
  },
  {
   "attachments": {},
   "cell_type": "markdown",
   "metadata": {},
   "source": [
    "2. Define the different types of statistics and give an example of when each type might be used.\\\n",
    "\n",
    "There are 2 types of statistics:\n",
    "- Descriptive Statistics: it can be used to know the central tendency of a data set.\n",
    "- Inferential Statistics: It can be used to infer from a sample data to get a population insight\n"
   ]
  },
  {
   "attachments": {},
   "cell_type": "markdown",
   "metadata": {},
   "source": [
    "3. What are the different types of data and how do they differ from each other? Provide an example of\n",
    "each type of data."
   ]
  },
  {
   "attachments": {},
   "cell_type": "markdown",
   "metadata": {},
   "source": [
    "The 2 principal types of data is Quantitative and qualitative.\n",
    "- Quantitative: refers to any numerical data that can measure like height or weight\n",
    "- Qualitative: refers to categorical data like gender or blood type"
   ]
  },
  {
   "attachments": {},
   "cell_type": "markdown",
   "metadata": {},
   "source": [
    "Q4. Categorise the following datasets with respect to quantitative and qualitative data types:\n"
   ]
  },
  {
   "attachments": {},
   "cell_type": "markdown",
   "metadata": {},
   "source": [
    "Qualitative\n",
    "- Grading in exam: A+, A, B+, B, C+, C, D, E\n",
    "- Colour of mangoes: yellow, green, orange, red\n",
    "---\n",
    "Quantitative\n",
    "-  Height data of a class: [178.9, 179, 179.5, 176, 177.2, 178.3, 175.8,...]\n",
    "-  Number of mangoes exported by a farm: [500, 600, 478, 672, ...]"
   ]
  },
  {
   "attachments": {},
   "cell_type": "markdown",
   "metadata": {},
   "source": [
    "\n",
    "5. Explain the concept of levels of measurement and give an example of a variable for each level."
   ]
  },
  {
   "attachments": {},
   "cell_type": "markdown",
   "metadata": {},
   "source": [
    "The concept of levels of measurement, also known as scales of measurement or levels of data, is a way to categorize different types of variables based on the characteristics of the data they represent. There are four commonly recognized levels of measurement: nominal, ordinal, interval, and ratio.\n",
    "\n",
    "- Nominal Level: Variables at the nominal level are categorical or qualitative in nature. They represent data that can be classified into distinct categories or groups. However, nominal variables do not have any inherent order or magnitude. Examples of nominal variables include gender (e.g., male or female), eye color (e.g., blue, green, or brown), or marital status (e.g., single, married, divorced).\n",
    "\n",
    "- Ordinal Level: Variables at the ordinal level also represent categorical data, but with an added feature of order or ranking. The categories of an ordinal variable can be arranged in a meaningful order, indicating relative differences between them. However, the differences between categories are not necessarily uniform or quantifiable. Examples of ordinal variables include educational attainment (e.g., high school diploma, bachelor's degree, master's degree), Likert scale responses (e.g., strongly disagree, disagree, neutral, agree, strongly agree), or socioeconomic status (e.g., low, medium, high).\n",
    "\n",
    "- Interval Level: Variables at the interval level represent data that not only have an order but also possess equal intervals between the values. In other words, the differences between the data points are meaningful and consistent. However, the concept of a meaningful zero point is absent. Examples of interval variables include temperature measured in Celsius or Fahrenheit (e.g., 20°C, 30°C), years on a calendar (e.g., 2000, 2010), or IQ scores (e.g., 100, 120, 140).\n",
    "\n",
    "- Ratio Level: Variables at the ratio level possess all the characteristics of the previous levels (nominal, ordinal, and interval), along with the presence of a true zero point. This means that the zero represents the complete absence of the variable being measured. Additionally, ratios between values are meaningful and can be compared mathematically. Examples of ratio variables include height (e.g., 160 cm, 180 cm), weight (e.g., 50 kg, 70 kg), income (e.g., $0, $50,000), or reaction time (e.g., 0 seconds, 2 seconds)."
   ]
  },
  {
   "attachments": {},
   "cell_type": "markdown",
   "metadata": {},
   "source": [
    "6. Why is it important to understand the level of measurement when analyzing data? Provide an\n",
    "example to illustrate your answer.\n"
   ]
  },
  {
   "attachments": {},
   "cell_type": "markdown",
   "metadata": {},
   "source": [
    "Understanding the level of measurement is crucial when analyzing data because it determines the appropriate statistical techniques and operations that can be applied to the data. Different levels of measurement have different properties and constraints, and using the wrong statistical methods can lead to erroneous conclusions or misleading interpretations. Here's an example to illustrate the importance of understanding the level of measurement:\n",
    "\n",
    "Let's consider a research study investigating the effectiveness of three different treatments (Treatment A, Treatment B, and Treatment C) for a certain medical condition. The researchers measure the severity of the condition using a Likert scale ranging from 1 to 5, where 1 represents \"mild\" and 5 represents \"severe.\"\n",
    "\n",
    "If the severity variable is treated as a nominal variable, implying that the categories (1, 2, 3, 4, 5) are merely labels with no inherent order or magnitude, it would be incorrect to calculate a mean severity score for each treatment group. Computing the mean of nominal data is inappropriate because it assumes that the values have an equal interval between them, which is not the case here.\n",
    "\n",
    "However, if the severity variable is recognized as an ordinal variable, acknowledging the order and relative differences between the categories, it would be appropriate to calculate the median severity score for each treatment group. The median is a measure of central tendency that is suitable for ordinal data, as it indicates the middle value when the data is ranked.\n",
    "\n",
    "On the other hand, if the severity variable is treated as an interval or ratio variable, the analysis can involve more advanced statistical techniques. For instance, an analysis of variance (ANOVA) could be used to determine if there are significant differences in mean severity scores between the treatment groups. Additionally, post-hoc tests, such as Tukey's HSD, can be conducted to identify specific group differences.\n",
    "\n",
    "In this example, understanding the level of measurement allows researchers to appropriately select statistical procedures that align with the nature of the data. Failing to consider the level of measurement could lead to incorrect statistical analyses, misinterpretations of results, and potentially flawed conclusions."
   ]
  },
  {
   "attachments": {},
   "cell_type": "markdown",
   "metadata": {},
   "source": [
    "7. How nominal data type is different from ordinal data type."
   ]
  },
  {
   "attachments": {},
   "cell_type": "markdown",
   "metadata": {},
   "source": [
    "Nominal and ordinal data types are both categorical variables, but they differ in terms of the level of information and the characteristics they possess. Here are the key differences between nominal and ordinal data types:\\\n",
    "\\\n",
    "Nature of Categories:\n",
    "\n",
    "- Nominal Data: In nominal data, categories or groups are mutually exclusive and have no inherent order or ranking. Each category represents a distinct attribute or characteristic. Examples of nominal data include gender (male, female), eye color (blue, green, brown), or country of origin (USA, UK, Canada).\n",
    "Ordinal Data: In ordinal data, categories have a specific order or ranking associated with them. The categories represent a hierarchy or relative differences between the attributes, but the differences are not necessarily uniform or quantifiable. Examples of ordinal data include Likert scale responses (strongly disagree, disagree, neutral, agree, strongly agree), educational attainment (high school diploma, bachelor's degree, master's degree), or socioeconomic status (low, medium, high).\n",
    "Measurement Properties:\n",
    "\n",
    "- Nominal Data: Nominal data lacks numerical value or magnitude. The categories are represented by labels or names, and operations such as addition, subtraction, or multiplication are not meaningful for nominal variables.\n",
    "Ordinal Data: Ordinal data possess an inherent order or ranking, allowing for a comparison of relative differences. However, the magnitude or size of the differences between categories is not quantitatively measured or consistent.\n",
    "Statistical Analysis:\n",
    "\n",
    "- Nominal Data: Nominal data is typically analyzed using non-parametric statistical methods, as the data lacks numerical properties and cannot be subjected to mathematical operations. Frequencies, proportions, and chi-square tests are commonly used for analyzing nominal variables.\n",
    "Ordinal Data: Ordinal data can be analyzed using both non-parametric and parametric statistical techniques. Non-parametric methods, such as the Mann-Whitney U test or Kruskal-Wallis test, are appropriate for assessing group differences. Parametric methods, like analysis of variance (ANOVA), can be employed if the assumptions of normality and equal variances are met."
   ]
  },
  {
   "attachments": {},
   "cell_type": "markdown",
   "metadata": {},
   "source": [
    "8. Which type of plot can be used to display data in terms of range?\n",
    "- A type of plot commonly used to display data in terms of range is a box plot, also known as a box-and-whisker plot.\n"
   ]
  },
  {
   "attachments": {},
   "cell_type": "markdown",
   "metadata": {},
   "source": [
    "9. Describe the difference between descriptive and inferential statistics. Give an example of each\n",
    "type of statistics and explain how they are used."
   ]
  },
  {
   "attachments": {},
   "cell_type": "markdown",
   "metadata": {},
   "source": [
    "Descriptive statistics and inferential statistics are two branches of statistical analysis that serve different purposes in understanding and interpreting data.\n",
    "\n",
    "- Descriptive Statistics:\n",
    "Descriptive statistics focuses on summarizing and describing the main features of a dataset. It involves organizing, presenting, and analyzing data in a way that provides meaningful insights. Descriptive statistics do not make any generalizations or inferences beyond the specific dataset being analyzed. It aims to describe what is happening in the data and helps to understand its characteristics.\n",
    "Example: Mean, Median, and Mode\n",
    "Suppose you have collected the heights of a group of individuals. Descriptive statistics can be used to calculate the mean height, which represents the average height of the group. The median height, which is the middle value when the heights are arranged in ascending order, provides a measure of the central tendency. The mode represents the most frequently occurring height. These descriptive statistics provide a summary of the height distribution within the specific dataset you have collected.\n",
    "\n",
    "- Inferential Statistics:\n",
    "Inferential statistics involves making inferences or generalizations about a population based on sample data. It utilizes probability theory and statistical techniques to draw conclusions, estimate parameters, and test hypotheses about the larger population from which the sample was taken. Inferential statistics aims to make predictions or inferences beyond the observed data, using statistical methods to assess the likelihood of the observed findings being representative of the larger population.\n",
    "Example: Hypothesis Testing\n",
    "Suppose you are conducting a study to evaluate the effectiveness of a new medication. You randomly assign a sample of participants to receive either the medication or a placebo, and you measure their symptoms after a certain period. Inferential statistics can be used to test a hypothesis, such as whether the medication significantly reduces symptoms compared to the placebo. By analyzing the data using statistical tests (e.g., t-test or chi-square test), you can determine if the observed differences are statistically significant and infer that the medication has an effect on the larger population.\n",
    "\n",
    "In summary, descriptive statistics summarizes and describes the data at hand, while inferential statistics allows for making inferences and drawing conclusions about a population based on sample data. Descriptive statistics provide insights into the characteristics of a dataset, while inferential statistics extend those insights to make broader statements about a larger population."
   ]
  },
  {
   "attachments": {},
   "cell_type": "markdown",
   "metadata": {},
   "source": [
    "10. What are some common measures of central tendency and variability used in statistics? Explain\n",
    "how each measure can be used to describe a dataset."
   ]
  },
  {
   "attachments": {},
   "cell_type": "markdown",
   "metadata": {},
   "source": [
    "In statistics, measures of central tendency and measures of variability are commonly used to summarize and describe datasets. These measures provide insights into the typical values and the spread or dispersion of the data. Here are some common measures of central tendency and variability:\n",
    "\n",
    "Measures of Central Tendency:\n",
    "\n",
    "- Mean: The mean, also known as the average, is calculated by summing all the values in a dataset and dividing it by the number of observations. It represents the typical or central value of the dataset. The mean is sensitive to extreme values and can be influenced by outliers.\n",
    "\n",
    "- Median: The median is the middle value when the dataset is arranged in ascending or descending order. It divides the data into two equal halves, indicating the central value. The median is less affected by extreme values or outliers, making it a robust measure of central tendency.\n",
    "\n",
    "- Mode: The mode represents the most frequently occurring value(s) in the dataset. It identifies the value(s) that appear with the highest frequency. The mode is useful for identifying the peak or dominant values in a distribution.\n",
    "\n",
    "Measures of Variability:\n",
    "\n",
    "- Range: The range is the difference between the maximum and minimum values in a dataset. It provides a simple measure of the spread of the data. However, the range is sensitive to extreme values and does not consider the distribution of the values within the dataset.\n",
    "\n",
    "- Variance: Variance quantifies the average squared deviation of each data point from the mean. It measures the spread or dispersion of the dataset around the mean. A higher variance indicates greater variability in the data.\n",
    "\n",
    "- Standard Deviation: The standard deviation is the square root of the variance. It provides a measure of dispersion similar to the variance but is in the original units of the data. The standard deviation is commonly used as it is easier to interpret than the variance.\n",
    "\n",
    "- Interquartile Range (IQR): The IQR represents the range between the first quartile (Q1) and the third quartile (Q3) of the dataset. It describes the spread of the middle 50% of the data, disregarding extreme values. The IQR is robust to outliers and provides a measure of dispersion for skewed datasets.\n",
    "\n",
    "These measures of central tendency and variability help to summarize and describe datasets. Measures of central tendency (mean, median, mode) provide insights into the typical or central value, while measures of variability (range, variance, standard deviation, IQR) describe the spread or dispersion of the data around the central tendency. By utilizing these measures, statisticians can gain a better understanding of the characteristics and distribution of a dataset."
   ]
  }
 ],
 "metadata": {
  "language_info": {
   "name": "python"
  },
  "orig_nbformat": 4
 },
 "nbformat": 4,
 "nbformat_minor": 2
}
