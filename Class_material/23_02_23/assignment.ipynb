{
 "cells": [
  {
   "attachments": {},
   "cell_type": "markdown",
   "metadata": {},
   "source": [
    "# Assingment"
   ]
  },
  {
   "cell_type": "code",
   "execution_count": 1,
   "metadata": {},
   "outputs": [],
   "source": [
    "import pandas as pd"
   ]
  },
  {
   "attachments": {},
   "cell_type": "markdown",
   "metadata": {},
   "source": [
    "1. Create a Pandas Series that contains the following data: 4, 8, 15, 16, 23, and 42. Then, print the series."
   ]
  },
  {
   "cell_type": "code",
   "execution_count": 6,
   "metadata": {},
   "outputs": [],
   "source": [
    "a = pd.Series([4,8,15,16,23,42])"
   ]
  },
  {
   "cell_type": "code",
   "execution_count": 4,
   "metadata": {},
   "outputs": [
    {
     "name": "stdout",
     "output_type": "stream",
     "text": [
      "0     4\n",
      "1     8\n",
      "2    15\n",
      "3    16\n",
      "4    23\n",
      "5    42\n",
      "dtype: int64\n"
     ]
    }
   ],
   "source": [
    "print(a)"
   ]
  },
  {
   "attachments": {},
   "cell_type": "markdown",
   "metadata": {},
   "source": [
    "2. Create a variable of list type containing 10 elements in it, and apply pandas.Series function on the\n",
    "variable print it."
   ]
  },
  {
   "cell_type": "code",
   "execution_count": 10,
   "metadata": {},
   "outputs": [],
   "source": [
    "b = [1,2,3,4,5,6,7,8,9,10]"
   ]
  },
  {
   "cell_type": "code",
   "execution_count": 11,
   "metadata": {},
   "outputs": [
    {
     "name": "stdout",
     "output_type": "stream",
     "text": [
      "0     1\n",
      "1     2\n",
      "2     3\n",
      "3     4\n",
      "4     5\n",
      "5     6\n",
      "6     7\n",
      "7     8\n",
      "8     9\n",
      "9    10\n",
      "dtype: int64\n"
     ]
    }
   ],
   "source": [
    "print(pd.Series(b))"
   ]
  },
  {
   "attachments": {},
   "cell_type": "markdown",
   "metadata": {},
   "source": [
    "3. Create a Pandas DataFrame that contains the following data:"
   ]
  },
  {
   "cell_type": "code",
   "execution_count": 13,
   "metadata": {},
   "outputs": [],
   "source": [
    "mydict = {'Name':['Alice','Bob','Claire'],'Age':[25,30,27],'Gender': ['Female','Male','Female']}"
   ]
  },
  {
   "cell_type": "code",
   "execution_count": 14,
   "metadata": {},
   "outputs": [
    {
     "data": {
      "text/html": [
       "<div>\n",
       "<style scoped>\n",
       "    .dataframe tbody tr th:only-of-type {\n",
       "        vertical-align: middle;\n",
       "    }\n",
       "\n",
       "    .dataframe tbody tr th {\n",
       "        vertical-align: top;\n",
       "    }\n",
       "\n",
       "    .dataframe thead th {\n",
       "        text-align: right;\n",
       "    }\n",
       "</style>\n",
       "<table border=\"1\" class=\"dataframe\">\n",
       "  <thead>\n",
       "    <tr style=\"text-align: right;\">\n",
       "      <th></th>\n",
       "      <th>Name</th>\n",
       "      <th>Age</th>\n",
       "      <th>Gender</th>\n",
       "    </tr>\n",
       "  </thead>\n",
       "  <tbody>\n",
       "    <tr>\n",
       "      <th>0</th>\n",
       "      <td>Alice</td>\n",
       "      <td>25</td>\n",
       "      <td>Female</td>\n",
       "    </tr>\n",
       "    <tr>\n",
       "      <th>1</th>\n",
       "      <td>Bob</td>\n",
       "      <td>30</td>\n",
       "      <td>Male</td>\n",
       "    </tr>\n",
       "    <tr>\n",
       "      <th>2</th>\n",
       "      <td>Claire</td>\n",
       "      <td>27</td>\n",
       "      <td>Female</td>\n",
       "    </tr>\n",
       "  </tbody>\n",
       "</table>\n",
       "</div>"
      ],
      "text/plain": [
       "     Name  Age  Gender\n",
       "0   Alice   25  Female\n",
       "1     Bob   30    Male\n",
       "2  Claire   27  Female"
      ]
     },
     "execution_count": 14,
     "metadata": {},
     "output_type": "execute_result"
    }
   ],
   "source": [
    "pd.DataFrame(mydict)"
   ]
  },
  {
   "attachments": {},
   "cell_type": "markdown",
   "metadata": {},
   "source": [
    "4. What is ‘DataFrame’ in pandas and how is it different from pandas.series? Explain with an example.\n",
    "\n",
    "\n",
    "\n",
    "\n",
    "- In pandas, a DataFrame is a two-dimensional tabular data structure with labeled axes (rows and columns) that can hold data of different types (numeric, string, boolean, etc.). It can be thought of as a spreadsheet or SQL table. The DataFrame is the most commonly used data structure in pandas and is used for data manipulation, analysis, and visualization.\n",
    "\n",
    "- On the other hand, a pandas Series is a one-dimensional array-like object that can hold data of any type (numeric, string, boolean, etc.). It is similar to a column in a spreadsheet or a vector in R. A Series has an index, which labels the values, and can be used to access the data."
   ]
  },
  {
   "cell_type": "code",
   "execution_count": 15,
   "metadata": {},
   "outputs": [
    {
     "name": "stdout",
     "output_type": "stream",
     "text": [
      "    name  age  gender\n",
      "0   John   25    Male\n",
      "1  Alice   30  Female\n",
      "2    Bob   35    Male\n"
     ]
    }
   ],
   "source": [
    "import pandas as pd\n",
    "\n",
    "# create a dictionary of data\n",
    "data = {'name': ['John', 'Alice', 'Bob'],\n",
    "        'age': [25, 30, 35],\n",
    "        'gender': ['Male', 'Female', 'Male']}\n",
    "\n",
    "# create a DataFrame from the dictionary\n",
    "df = pd.DataFrame(data)\n",
    "\n",
    "# print the DataFrame\n",
    "print(df)\n"
   ]
  },
  {
   "cell_type": "code",
   "execution_count": 16,
   "metadata": {},
   "outputs": [
    {
     "name": "stdout",
     "output_type": "stream",
     "text": [
      "0    25\n",
      "1    30\n",
      "2    35\n",
      "Name: age, dtype: int64\n"
     ]
    }
   ],
   "source": [
    "# create a Series from the 'age' column of the DataFrame\n",
    "age_series = df['age']\n",
    "\n",
    "# print the Series\n",
    "print(age_series)\n"
   ]
  },
  {
   "attachments": {},
   "cell_type": "markdown",
   "metadata": {},
   "source": [
    "5. What are some common functions you can use to manipulate data in a Pandas DataFrame? Can\n",
    "you give an example of when you might use one of these functions?"
   ]
  },
  {
   "cell_type": "code",
   "execution_count": 19,
   "metadata": {},
   "outputs": [
    {
     "name": "stdout",
     "output_type": "stream",
     "text": [
      "   id  location_id  program_id accepted_payments alternate_name  \\\n",
      "0   1            1         NaN               NaN            NaN   \n",
      "1   2            2         NaN               NaN            NaN   \n",
      "2   3            3         NaN               NaN            NaN   \n",
      "3   4            4         NaN               NaN            NaN   \n",
      "4   5            5         NaN               NaN            NaN   \n",
      "\n",
      "                           application_process  \\\n",
      "0                   Walk in or apply by phone.   \n",
      "1           Apply by phone for an appointment.   \n",
      "2  Phone for information (403-4300 Ext. 4322).   \n",
      "3                              Apply by phone.   \n",
      "4                       Phone for information.   \n",
      "\n",
      "                                            audience  \\\n",
      "0  Older adults age 55 or over, ethnic minorities...   \n",
      "1       Residents of San Mateo County age 55 or over   \n",
      "2  Older adults age 55 or over who can benefit fr...   \n",
      "3  Parents, children, families with problems of c...   \n",
      "4  Low-income working families with children tran...   \n",
      "\n",
      "                                         description  \\\n",
      "0  A walk-in center for older adults that provide...   \n",
      "1  Provides training and job placement to eligibl...   \n",
      "2  Offers supportive counseling services to San M...   \n",
      "3  Provides supervised visitation services and a ...   \n",
      "4  Provides fixed 8% short term loans to eligible...   \n",
      "\n",
      "                                         eligibility email  ...  \\\n",
      "0  Age 55 or over for most programs, age 60 or ov...   NaN  ...   \n",
      "1  Age 55 or over, county resident and willing an...   NaN  ...   \n",
      "2        Resident of San Mateo County age 55 or over   NaN  ...   \n",
      "3                                               None   NaN  ...   \n",
      "4  Eligibility: Low-income family with legal cust...   NaN  ...   \n",
      "\n",
      "  interpretation_services                                           keywords  \\\n",
      "0                     NaN  ADULT PROTECTION AND CARE SERVICES, Meal Sites...   \n",
      "1                     NaN  EMPLOYMENT/TRAINING SERVICES, Job Development,...   \n",
      "2                     NaN  Geriatric Counseling, Older Adults, Gay, Lesbi...   \n",
      "3                     NaN  INDIVIDUAL AND FAMILY DEVELOPMENT SERVICES, Gr...   \n",
      "4                     NaN     COMMUNITY SERVICES, Speakers, Automobile Loans   \n",
      "\n",
      "  languages                               name required_documents  \\\n",
      "0       NaN    Fair Oaks Adult Activity Center                NaN   \n",
      "1       NaN   Second Career Employment Program                NaN   \n",
      "2       NaN             Senior Peer Counseling                NaN   \n",
      "3       NaN           Family Visitation Center                NaN   \n",
      "4       NaN  Economic Self-Sufficiency Program                NaN   \n",
      "\n",
      "      service_areas  status wait_time website taxonomy_ids  \n",
      "0             Colma  active  No wait.     NaN          NaN  \n",
      "1  San Mateo County  active   Varies.     NaN          NaN  \n",
      "2  San Mateo County  active   Varies.     NaN          NaN  \n",
      "3  San Mateo County  active  No wait.     NaN          NaN  \n",
      "4  San Mateo County  active       NaN     NaN          NaN  \n",
      "\n",
      "[5 rows x 22 columns]\n",
      "    id  location_id  program_id         accepted_payments  \\\n",
      "18  19           19         NaN                       NaN   \n",
      "19  20           20         NaN                       NaN   \n",
      "20  21           21         NaN                       NaN   \n",
      "21  22           22         NaN  Cash, Check, Credit Card   \n",
      "22  23           22         NaN                       NaN   \n",
      "\n",
      "           alternate_name                             application_process  \\\n",
      "18                    NaN  Call for screening appointment (650-347-3648).   \n",
      "19                    NaN                                        Walk in.   \n",
      "20                    NaN                 By phone during business hours.   \n",
      "21  Fotos para pasaportes               Walk in or apply by phone or mail   \n",
      "22                    NaN               Walk in or apply by phone or mail   \n",
      "\n",
      "                                             audience  \\\n",
      "18                                                NaN   \n",
      "19                                                NaN   \n",
      "20                                                NaN   \n",
      "21  Profit and nonprofit businesses, the public, m...   \n",
      "22  Second service and nonprofit businesses, the p...   \n",
      "\n",
      "                                          description  \\\n",
      "18  Provides free medical and dental care to those...   \n",
      "19              no unrequired fields for this service   \n",
      "20                                just a test service   \n",
      "21  [NOTE THIS IS NOT A REAL SERVICE--THIS IS FOR ...   \n",
      "22  [NOTE THIS IS NOT A REAL ORGANIZATION--THIS IS...   \n",
      "\n",
      "                                        eligibility                  email  \\\n",
      "18  Low-income person without access to health care                    NaN   \n",
      "19                                              NaN                    NaN   \n",
      "20                                              NaN                    NaN   \n",
      "21                                             None  passports@example.org   \n",
      "22                                             None                    NaN   \n",
      "\n",
      "    ...                            interpretation_services  \\\n",
      "18  ...                                                NaN   \n",
      "19  ...                                                NaN   \n",
      "20  ...                                                NaN   \n",
      "21  ...  We offer 3-way interpretation services over th...   \n",
      "22  ...                                                NaN   \n",
      "\n",
      "                                             keywords languages  \\\n",
      "18  HEALTH SERVICES, Outpatient Care, Community Cl...       NaN   \n",
      "19                                                NaN       NaN   \n",
      "20                                                NaN       NaN   \n",
      "21                                    Salud, Medicina   Spanish   \n",
      "22         Ruby on Rails/Postgres/Redis, testing, wic       NaN   \n",
      "\n",
      "                               name                        required_documents  \\\n",
      "18    San Mateo Free Medical Clinic                                       NaN   \n",
      "19        Service with blank fields                                       NaN   \n",
      "20  Service for Admin Test Location                                       NaN   \n",
      "21                  Passport Photos  Government-issued picture identification   \n",
      "22             Example Service Name                                       NaN   \n",
      "\n",
      "                       service_areas    status            wait_time  \\\n",
      "18               Belmont, Burlingame    active              Varies.   \n",
      "19                               NaN   defunct                  NaN   \n",
      "20                  San Mateo County  inactive                  NaN   \n",
      "21  Alameda County, San Mateo County    active  No wait to 2 weeks.   \n",
      "22  San Mateo County, Alameda County    active   No wait to 2 weeks   \n",
      "\n",
      "                   website                              taxonomy_ids  \n",
      "18                     NaN                                       NaN  \n",
      "19                     NaN                                       NaN  \n",
      "20                     NaN                                       NaN  \n",
      "21  http://www.example.com  105, 108, 108-05, 108-05-01, 111, 111-05  \n",
      "22  http://www.example.com                                       NaN  \n",
      "\n",
      "[5 rows x 22 columns]\n"
     ]
    }
   ],
   "source": [
    "# head() and tail(): These functions are used to display the first or last few rows of a DataFrame\n",
    "\n",
    "import pandas as pd\n",
    "df = pd.read_csv('services.csv')\n",
    "print(df.head())\n",
    "print(df.tail())\n"
   ]
  },
  {
   "cell_type": "code",
   "execution_count": 20,
   "metadata": {},
   "outputs": [
    {
     "data": {
      "text/html": [
       "<div>\n",
       "<style scoped>\n",
       "    .dataframe tbody tr th:only-of-type {\n",
       "        vertical-align: middle;\n",
       "    }\n",
       "\n",
       "    .dataframe tbody tr th {\n",
       "        vertical-align: top;\n",
       "    }\n",
       "\n",
       "    .dataframe thead th {\n",
       "        text-align: right;\n",
       "    }\n",
       "</style>\n",
       "<table border=\"1\" class=\"dataframe\">\n",
       "  <thead>\n",
       "    <tr style=\"text-align: right;\">\n",
       "      <th></th>\n",
       "      <th>id</th>\n",
       "      <th>location_id</th>\n",
       "      <th>program_id</th>\n",
       "    </tr>\n",
       "  </thead>\n",
       "  <tbody>\n",
       "    <tr>\n",
       "      <th>count</th>\n",
       "      <td>23.00000</td>\n",
       "      <td>23.000000</td>\n",
       "      <td>0.0</td>\n",
       "    </tr>\n",
       "    <tr>\n",
       "      <th>mean</th>\n",
       "      <td>12.00000</td>\n",
       "      <td>11.956522</td>\n",
       "      <td>NaN</td>\n",
       "    </tr>\n",
       "    <tr>\n",
       "      <th>std</th>\n",
       "      <td>6.78233</td>\n",
       "      <td>6.711444</td>\n",
       "      <td>NaN</td>\n",
       "    </tr>\n",
       "    <tr>\n",
       "      <th>min</th>\n",
       "      <td>1.00000</td>\n",
       "      <td>1.000000</td>\n",
       "      <td>NaN</td>\n",
       "    </tr>\n",
       "    <tr>\n",
       "      <th>25%</th>\n",
       "      <td>6.50000</td>\n",
       "      <td>6.500000</td>\n",
       "      <td>NaN</td>\n",
       "    </tr>\n",
       "    <tr>\n",
       "      <th>50%</th>\n",
       "      <td>12.00000</td>\n",
       "      <td>12.000000</td>\n",
       "      <td>NaN</td>\n",
       "    </tr>\n",
       "    <tr>\n",
       "      <th>75%</th>\n",
       "      <td>17.50000</td>\n",
       "      <td>17.500000</td>\n",
       "      <td>NaN</td>\n",
       "    </tr>\n",
       "    <tr>\n",
       "      <th>max</th>\n",
       "      <td>23.00000</td>\n",
       "      <td>22.000000</td>\n",
       "      <td>NaN</td>\n",
       "    </tr>\n",
       "  </tbody>\n",
       "</table>\n",
       "</div>"
      ],
      "text/plain": [
       "             id  location_id  program_id\n",
       "count  23.00000    23.000000         0.0\n",
       "mean   12.00000    11.956522         NaN\n",
       "std     6.78233     6.711444         NaN\n",
       "min     1.00000     1.000000         NaN\n",
       "25%     6.50000     6.500000         NaN\n",
       "50%    12.00000    12.000000         NaN\n",
       "75%    17.50000    17.500000         NaN\n",
       "max    23.00000    22.000000         NaN"
      ]
     },
     "execution_count": 20,
     "metadata": {},
     "output_type": "execute_result"
    }
   ],
   "source": [
    "#describe(): This function provides summary statistics of the DataFrame, such as count, mean, standard deviation, minimum, maximum, etc. For example:\n",
    "df.describe()"
   ]
  },
  {
   "attachments": {},
   "cell_type": "markdown",
   "metadata": {},
   "source": [
    "- groupby(): This function is used to group data based on one or more columns, and perform aggregation on the groups.\n",
    "- sort_values(): This function is used to sort the DataFrame based on one or more columns\n",
    "- fillna(): This function is used to fill missing values in the DataFrame with a specified value or method.\n",
    "- drop(): This function is used to remove rows or columns from the DataFrame based on a specified condition\n",
    "- merge(): This function is used to combine two DataFrames based on a common column."
   ]
  },
  {
   "attachments": {},
   "cell_type": "markdown",
   "metadata": {},
   "source": [
    "6. Which of the following is mutable in nature Series, DataFrame, Panel?"
   ]
  },
  {
   "attachments": {},
   "cell_type": "markdown",
   "metadata": {},
   "source": [
    "- Both Series and DataFrame are mutable in nature. This means that their values can be modified after they are created."
   ]
  },
  {
   "attachments": {},
   "cell_type": "markdown",
   "metadata": {},
   "source": [
    "7. Create a DataFrame using multiple Series. Explain with an example."
   ]
  },
  {
   "cell_type": "code",
   "execution_count": 21,
   "metadata": {},
   "outputs": [
    {
     "name": "stdout",
     "output_type": "stream",
     "text": [
      "    Name  Age Gender\n",
      "0   John   25      M\n",
      "1  Alice   30      F\n",
      "2    Bob   35      M\n"
     ]
    }
   ],
   "source": [
    "import pandas as pd\n",
    "\n",
    "# create a Series for each column\n",
    "names = pd.Series(['John', 'Alice', 'Bob'])\n",
    "ages = pd.Series([25, 30, 35])\n",
    "genders = pd.Series(['M', 'F', 'M'])\n",
    "\n",
    "# create a dictionary of Series\n",
    "data = {'Name': names, 'Age': ages, 'Gender': genders}\n",
    "\n",
    "# create the DataFrame from the dictionary of Series\n",
    "df = pd.DataFrame(data)\n",
    "\n",
    "# print the DataFrame\n",
    "print(df)\n"
   ]
  }
 ],
 "metadata": {
  "kernelspec": {
   "display_name": "Python 3",
   "language": "python",
   "name": "python3"
  },
  "language_info": {
   "codemirror_mode": {
    "name": "ipython",
    "version": 3
   },
   "file_extension": ".py",
   "mimetype": "text/x-python",
   "name": "python",
   "nbconvert_exporter": "python",
   "pygments_lexer": "ipython3",
   "version": "3.8.8"
  },
  "orig_nbformat": 4
 },
 "nbformat": 4,
 "nbformat_minor": 2
}
