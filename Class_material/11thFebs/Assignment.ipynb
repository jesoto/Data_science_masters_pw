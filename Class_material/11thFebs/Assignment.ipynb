{
 "cells": [
  {
   "attachments": {},
   "cell_type": "markdown",
   "metadata": {},
   "source": [
    "# Assignment"
   ]
  },
  {
   "attachments": {},
   "cell_type": "markdown",
   "metadata": {},
   "source": [
    "1. Which function is used to open a file? What are the different modes of opening a file? Explain each mode\n",
    "of file opening.\n",
    "\n",
    "- The function used to open a file in python is \"open\".\n",
    "- \"r\" - Read mode: This is the default mode when no mode is specified. In this mode, the file is opened for reading only, and if the file does not exist, it will raise a FileNotFoundError.\n",
    "\n",
    "- \"w\" - Write mode: In this mode, the file is opened for writing, and if the file already exists, its contents are truncated. If the file does not exist, a new file is created.\n",
    "\n",
    "- \"x\" - Exclusive creation mode: This mode is similar to write mode, but it will raise a FileExistsError if the file already exists.\n",
    "\n",
    "- \"a\" - Append mode: In this mode, the file is opened for appending, and new data is written to the end of the file. If the file does not exist, a new file is created.\n",
    "\n",
    "- \"b\" - Binary mode: In this mode, the file is opened in binary mode instead of text mode.\n",
    "\n",
    "- \"t\" - Text mode: This is the default mode when no mode is specified. In this mode, the file is opened in text mode, which means that any data read from or written to the file is treated as a string.\n",
    "\n",
    "- \"+\" - Read and write mode: This mode allows both reading and writing to the file. For example, \"w+\" opens the file for both reading and writing, but it will truncate the file if it already exists."
   ]
  },
  {
   "attachments": {},
   "cell_type": "markdown",
   "metadata": {},
   "source": [
    "2. Why close() function is used? Why is it important to close a file?\n",
    "\n",
    "- The close() function is used to close a file that has been opened using the open() function.\n",
    "\n",
    "- Resource management: When you open a file, the operating system allocates resources to keep track of that file. If you don't close the file properly, these resources will remain in use, which can cause problems for other programs that need to access the same resources.\n",
    "\n",
    "- Data consistency: When you write data to a file, it's often buffered in memory before being written to disk. If you don't close the file properly, the data may not be written to disk, which can result in data corruption or loss.\n",
    "\n",
    "- Security: If you leave a file open, other programs may be able to access it and read or modify its contents. Closing the file after you're done with it helps to prevent unauthorized access.\n",
    "\n",
    "- Performance: If you don't close a file, your program may use up more system resources than it needs to. This can slow down your program and make it less efficient."
   ]
  },
  {
   "attachments": {},
   "cell_type": "markdown",
   "metadata": {},
   "source": [
    "3. Write a python program to create a text file. Write ‘I want to become a Data Scientist’ in that file. Then\n",
    "close the file. Open this file and read the content of the file."
   ]
  },
  {
   "cell_type": "code",
   "execution_count": 1,
   "metadata": {},
   "outputs": [
    {
     "name": "stdout",
     "output_type": "stream",
     "text": [
      "I want to become a Data Scientist\n"
     ]
    }
   ],
   "source": [
    "# open the file in write mode\n",
    "file = open(\"my_text_file.txt\", \"w\")\n",
    "\n",
    "# write some text to the file\n",
    "file.write(\"I want to become a Data Scientist\")\n",
    "\n",
    "# close the file\n",
    "file.close()\n",
    "\n",
    "# open the file in read mode\n",
    "file = open(\"my_text_file.txt\", \"r\")\n",
    "\n",
    "# read the content of the file\n",
    "content = file.read()\n",
    "\n",
    "# print the content of the file\n",
    "print(content)\n",
    "\n",
    "# close the file\n",
    "file.close()\n"
   ]
  },
  {
   "attachments": {},
   "cell_type": "markdown",
   "metadata": {},
   "source": [
    "4. Explain the following with python code: read(), readline() and readlines().\n",
    "\n",
    "- "
   ]
  },
  {
   "attachments": {},
   "cell_type": "markdown",
   "metadata": {},
   "source": [
    "5. Explain why with statement is used with open(). What is the advantage of using with statement and\n",
    "open() together?"
   ]
  },
  {
   "attachments": {},
   "cell_type": "markdown",
   "metadata": {},
   "source": [
    "6. Explain the write() and writelines() functions. Give a suitable example."
   ]
  }
 ],
 "metadata": {
  "kernelspec": {
   "display_name": "base",
   "language": "python",
   "name": "python3"
  },
  "language_info": {
   "codemirror_mode": {
    "name": "ipython",
    "version": 3
   },
   "file_extension": ".py",
   "mimetype": "text/x-python",
   "name": "python",
   "nbconvert_exporter": "python",
   "pygments_lexer": "ipython3",
   "version": "3.9.7"
  },
  "orig_nbformat": 4
 },
 "nbformat": 4,
 "nbformat_minor": 2
}
