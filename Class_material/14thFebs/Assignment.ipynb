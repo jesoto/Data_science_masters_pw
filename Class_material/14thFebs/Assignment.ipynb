{
 "cells": [
  {
   "attachments": {},
   "cell_type": "markdown",
   "metadata": {},
   "source": [
    "# Assignment: 14th Febs"
   ]
  },
  {
   "attachments": {},
   "cell_type": "markdown",
   "metadata": {},
   "source": [
    "1. What is multithreading in python? Why is it used? Name the module used to handle threads in python"
   ]
  },
  {
   "attachments": {},
   "cell_type": "markdown",
   "metadata": {},
   "source": [
    "- Multithreading is used in Python to improve the performance of applications that require parallel processing. By using multithreading, developers can write code that runs faster and more efficiently by taking advantage of the capabilities of modern multi-core processors. Multithreading is especially useful in applications that involve input/output (I/O) operations, such as downloading files, reading data from disk, or communicating over a network.\n",
    "\n",
    "- The module used to handle threads in Python is called \"threading\". The threading module provides a way to create and manage threads in Python. It allows developers to spawn multiple threads, each of which can run concurrently and perform a separate task. The threading module also provides synchronization mechanisms, such as locks and semaphores, which can be used to coordinate access to shared resources among multiple threads."
   ]
  },
  {
   "attachments": {},
   "cell_type": "markdown",
   "metadata": {},
   "source": [
    "2. Why threading module used? write the use of the following functions\n",
    "- activeCount\n",
    "- currentThread\n",
    "- enumerate"
   ]
  },
  {
   "attachments": {},
   "cell_type": "markdown",
   "metadata": {},
   "source": [
    "- The threading module is used in Python to create and manage threads of execution in a program. It provides a way to run multiple threads simultaneously, each performing its own set of tasks independently.\n",
    "\n",
    "Here are the uses of the following functions in the threading module:\n",
    "\n",
    "- activeCount(): This function is used to get the number of active threads in the current thread's thread group. It returns an integer value indicating the number of active threads, including the main thread.\n",
    "\n",
    "- currentThread(): This function is used to get a reference to the current thread object. It returns a Thread object representing the thread that is currently executing the Python interpreter.\n",
    "\n",
    "- enumerate(): This function is used to get a list of all active Thread objects in the current thread's thread group. It returns a list of Thread objects, one for each active thread. This function can be useful for debugging and monitoring purposes, as it allows developers to see which threads are currently active and what they are doing."
   ]
  },
  {
   "attachments": {},
   "cell_type": "markdown",
   "metadata": {},
   "source": [
    "3. Explain the following functions\n",
    "- run\n",
    "- start\n",
    "- join\n",
    "- isAlive"
   ]
  },
  {
   "attachments": {},
   "cell_type": "markdown",
   "metadata": {},
   "source": [
    "- run(): This is a method of the Thread class and represents the code that is executed when a thread is started. This method is called automatically when the start() method is called on a Thread object. The run() method should be overridden by the user to define the thread's behavior.\n",
    "\n",
    "- start(): This method is used to start a thread's execution. When this method is called, a new thread is created and the run() method of the Thread object is called in that new thread. If the thread is already started or running, calling start() again has no effect.\n",
    "\n",
    "- join(): This method is used to wait for a thread to complete its execution. When this method is called on a Thread object, the calling thread is blocked until the thread being joined completes its execution. The join() method can be passed a timeout value, which specifies the maximum amount of time to wait for the thread to complete.\n",
    "\n",
    "- isAlive(): This method is used to check whether a thread is currently running. When this method is called on a Thread object, it returns a Boolean value indicating whether the thread is currently executing or not. This method can be used to check the status of a thread, for example, to determine whether it has completed its task or is still running"
   ]
  },
  {
   "attachments": {},
   "cell_type": "markdown",
   "metadata": {},
   "source": [
    "4. Write a python program to create two threads. Thread one must print the list of squares and thread\n",
    "two must print the list of cubes"
   ]
  },
  {
   "cell_type": "code",
   "execution_count": 13,
   "metadata": {},
   "outputs": [
    {
     "name": "stdout",
     "output_type": "stream",
     "text": [
      "Square of 1 = 1\n",
      "Square of 2 = 4\n",
      "Square of 3 = 9\n",
      "Square of 4 = 16\n",
      "Square of 5 = 25\n",
      "Square of 6 = 36\n",
      "Square of 7 = 49\n",
      "Square of 8 = 64\n",
      "Square of 9 = 81\n",
      "Square of 10 = 100\n",
      "Cube of 1 = 1\n",
      "Cube of 2 = 8\n",
      "Cube of 3 = 27\n",
      "Cube of 4 = 64\n",
      "Cube of 5 = 125\n",
      "Cube of 6 = 216\n",
      "Cube of 7 = 343\n",
      "Cube of 8 = 512\n",
      "Cube of 9 = 729\n",
      "Cube of 10 = 1000\n",
      "Main thread exiting...\n"
     ]
    }
   ],
   "source": [
    "import threading\n",
    "\n",
    "def print_squares():\n",
    "    for i in range(1, 11):\n",
    "        print(f\"Square of {i} = {i**2}\")\n",
    "\n",
    "def print_cubes():\n",
    "    for i in range(1, 11):\n",
    "        print(f\"Cube of {i} = {i**3}\")\n",
    "\n",
    "# create two threads\n",
    "t1 = threading.Thread(target=print_squares)\n",
    "t2 = threading.Thread(target=print_cubes)\n",
    "\n",
    "# start the threads\n",
    "t1.start()\n",
    "t2.start()\n",
    "\n",
    "# wait for the threads to complete\n",
    "t1.join()\n",
    "t2.join()\n",
    "\n",
    "print(\"Main thread exiting...\")\n"
   ]
  },
  {
   "attachments": {},
   "cell_type": "markdown",
   "metadata": {},
   "source": [
    "5. State advantages and disadvantages of multithreading"
   ]
  },
  {
   "attachments": {},
   "cell_type": "markdown",
   "metadata": {},
   "source": [
    "Multithreading in programming has several advantages and disadvantages:\n",
    "\n",
    "Advantages:\n",
    "\n",
    "- Improved performance: Multithreading can help improve the performance of programs that require parallel processing by taking advantage of modern multi-core processors. By running multiple threads concurrently, it allows for efficient use of CPU resources and can help reduce overall processing time.\n",
    "\n",
    "- Increased responsiveness: Multithreading can help improve the responsiveness of applications that require I/O operations, such as reading data from disk or communicating over a network. By allowing threads to perform separate tasks simultaneously, it can help prevent the program from becoming unresponsive or freezing during these operations.\n",
    "\n",
    "- Simplified code structure: Multithreading can help simplify the code structure by allowing developers to break down complex tasks into smaller, more manageable subtasks that can be performed by separate threads. This can make the code more modular and easier to maintain.\n",
    "\n",
    "Disadvantages:\n",
    "\n",
    "- Increased complexity: Multithreading can make the program more complex and difficult to debug, as it introduces the possibility of race conditions and synchronization issues. These issues can be difficult to diagnose and resolve, and can result in errors or unexpected behavior in the program.\n",
    "\n",
    "- Resource contention: Multithreading can lead to resource contention, where multiple threads compete for the same resources, such as memory or I/O devices. This can lead to performance degradation or even deadlock, where the threads become stuck waiting for each other to release resources.\n",
    "\n",
    "- Increased memory usage: Multithreading can increase the memory usage of the program, as each thread requires its own stack and context information. This can be a concern in programs that require a large number of threads or have limited memory resources.\n",
    "\n",
    "- Overall, multithreading can be a powerful tool for improving the performance and responsiveness of programs, but it also introduces complexity and potential issues that must be carefully managed by the developer."
   ]
  },
  {
   "attachments": {},
   "cell_type": "markdown",
   "metadata": {},
   "source": [
    "6. Explain deadlocks and race conditions."
   ]
  },
  {
   "attachments": {},
   "cell_type": "markdown",
   "metadata": {},
   "source": [
    "Deadlocks and race conditions are two common concurrency issues that can occur in multithreaded programming. Here's an explanation of each:\n",
    "\n",
    "- Deadlocks: A deadlock occurs when two or more threads are blocked, waiting for each other to release resources that they need to proceed. In other words, each thread is waiting for a resource that is being held by another thread, resulting in a circular dependency that cannot be resolved. Deadlocks can result in the program becoming unresponsive or freezing, as the threads are unable to proceed.\n",
    "For example, consider two threads, T1 and T2, that each hold a resource that the other thread needs to proceed. If T1 is waiting for T2 to release its resource and T2 is waiting for T1 to release its resource, a deadlock occurs, as neither thread can proceed.\n",
    "\n",
    "- Race conditions: A race condition occurs when the behavior of a program depends on the timing or ordering of events that are not well-defined. In other words, the outcome of the program is not deterministic and can vary depending on how the threads are scheduled to execute. Race conditions can result in incorrect or unpredictable behavior, as the order of execution can lead to unexpected results.\n",
    "For example, consider two threads, T1 and T2, that are accessing a shared resource. If T1 reads the resource while T2 is modifying it, the result can be unpredictable, as T1 may receive an outdated or inconsistent value. Similarly, if T1 and T2 both try to modify the resource at the same time, the result can be unpredictable, as the order in which the modifications occur is not well-defined.\n",
    "\n",
    "Both deadlocks and race conditions are difficult to debug and can be challenging to resolve in multithreaded programs. To avoid these issues, it's important to carefully design and test the program to ensure that resources are shared safely and that threads are synchronized appropriately."
   ]
  },
  {
   "cell_type": "code",
   "execution_count": null,
   "metadata": {},
   "outputs": [],
   "source": []
  },
  {
   "cell_type": "code",
   "execution_count": null,
   "metadata": {},
   "outputs": [],
   "source": []
  }
 ],
 "metadata": {
  "kernelspec": {
   "display_name": "base",
   "language": "python",
   "name": "python3"
  },
  "language_info": {
   "codemirror_mode": {
    "name": "ipython",
    "version": 3
   },
   "file_extension": ".py",
   "mimetype": "text/x-python",
   "name": "python",
   "nbconvert_exporter": "python",
   "pygments_lexer": "ipython3",
   "version": "3.8.8"
  },
  "orig_nbformat": 4,
  "vscode": {
   "interpreter": {
    "hash": "ad2bdc8ecc057115af97d19610ffacc2b4e99fae6737bb82f5d7fb13d2f2c186"
   }
  }
 },
 "nbformat": 4,
 "nbformat_minor": 2
}
