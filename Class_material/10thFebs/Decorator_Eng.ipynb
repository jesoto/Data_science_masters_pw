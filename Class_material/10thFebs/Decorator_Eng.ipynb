{
  "cells": [
    {
      "cell_type": "code",
      "execution_count": null,
      "id": "b6de53ab-3000-45a3-8078-30ea5780e5fb",
      "metadata": {
        "id": "b6de53ab-3000-45a3-8078-30ea5780e5fb"
      },
      "outputs": [],
      "source": [
        "def test():\n",
        "    print(\"this is the start of my fun\")\n",
        "    print(4+5)\n",
        "    print(\"this is the end of my fun\")"
      ]
    },
    {
      "cell_type": "code",
      "execution_count": null,
      "id": "eadaf185-d93b-4238-bb1d-7a1152ba34a1",
      "metadata": {
        "id": "eadaf185-d93b-4238-bb1d-7a1152ba34a1",
        "outputId": "44a1e028-65d6-4115-a0f8-b6bd0bcd1a13"
      },
      "outputs": [
        {
          "name": "stdout",
          "output_type": "stream",
          "text": [
            "this is the start of my fun\n",
            "9\n",
            "this is the end of my fun\n"
          ]
        }
      ],
      "source": [
        "test()"
      ]
    },
    {
      "cell_type": "code",
      "execution_count": null,
      "id": "c9c5ae9b-6d1f-42e3-b9d1-39fd9fc60b96",
      "metadata": {
        "id": "c9c5ae9b-6d1f-42e3-b9d1-39fd9fc60b96"
      },
      "outputs": [],
      "source": [
        "def deco(func):\n",
        "    def inner_deco():\n",
        "        print(\"this is the start of my fun\")\n",
        "        func()\n",
        "        print(\"this is the end of my fun\")\n",
        "    return inner_deco\n",
        "        "
      ]
    },
    {
      "cell_type": "code",
      "execution_count": null,
      "id": "b0935111-b840-41a8-8a60-aece43221a7d",
      "metadata": {
        "id": "b0935111-b840-41a8-8a60-aece43221a7d"
      },
      "outputs": [],
      "source": [
        "@deco\n",
        "def test1():\n",
        "    print(4+5)"
      ]
    },
    {
      "cell_type": "code",
      "execution_count": null,
      "id": "d7c74bf5-a7ad-4cf2-a193-d3ffcd7ec4f7",
      "metadata": {
        "id": "d7c74bf5-a7ad-4cf2-a193-d3ffcd7ec4f7",
        "outputId": "dc61c972-6b2c-41f6-b6e8-ae46b49d5c18"
      },
      "outputs": [
        {
          "name": "stdout",
          "output_type": "stream",
          "text": [
            "this is the start of my fun\n",
            "9\n",
            "this is the end of my fun\n"
          ]
        }
      ],
      "source": [
        "test1()"
      ]
    },
    {
      "cell_type": "code",
      "execution_count": null,
      "id": "c440a785-32b3-4dc3-8b61-a9d64511938c",
      "metadata": {
        "id": "c440a785-32b3-4dc3-8b61-a9d64511938c"
      },
      "outputs": [],
      "source": [
        "import time\n",
        "def timer_test(func) :\n",
        "    def timer_test_inner():\n",
        "        start = time.time()\n",
        "        func()\n",
        "        end = time.time()\n",
        "        print(end-start)\n",
        "    return timer_test_inner\n"
      ]
    },
    {
      "cell_type": "code",
      "execution_count": null,
      "id": "59dce623-254a-4978-9d4d-5f72a0e0c122",
      "metadata": {
        "id": "59dce623-254a-4978-9d4d-5f72a0e0c122"
      },
      "outputs": [],
      "source": [
        "@timer_test\n",
        "def test2():\n",
        "    print(45+67)"
      ]
    },
    {
      "cell_type": "code",
      "execution_count": null,
      "id": "428b0334-50b2-4ca0-8c3d-e4e0ccac535c",
      "metadata": {
        "id": "428b0334-50b2-4ca0-8c3d-e4e0ccac535c",
        "outputId": "b9af1c6b-e9e8-41e9-bd78-774125dc1977"
      },
      "outputs": [
        {
          "name": "stdout",
          "output_type": "stream",
          "text": [
            "112\n",
            "4.887580871582031e-05\n"
          ]
        }
      ],
      "source": [
        "test2()"
      ]
    },
    {
      "cell_type": "code",
      "execution_count": null,
      "id": "fc706759-902a-4be1-bdf6-d7b497b05614",
      "metadata": {
        "id": "fc706759-902a-4be1-bdf6-d7b497b05614"
      },
      "outputs": [],
      "source": [
        "@timer_test\n",
        "def test3():\n",
        "    for i in range(100000000):\n",
        "        pass"
      ]
    },
    {
      "cell_type": "code",
      "execution_count": null,
      "id": "87ab4647-1e92-4084-99d2-68ebc30fbeb6",
      "metadata": {
        "id": "87ab4647-1e92-4084-99d2-68ebc30fbeb6",
        "outputId": "1e3ec4d2-66a7-49c2-e446-f10460db865c"
      },
      "outputs": [
        {
          "name": "stdout",
          "output_type": "stream",
          "text": [
            "2.344442367553711\n"
          ]
        }
      ],
      "source": [
        "test3()"
      ]
    },
    {
      "cell_type": "code",
      "execution_count": null,
      "id": "d2d3c011-8a39-4e96-a415-fc2308b0065d",
      "metadata": {
        "id": "d2d3c011-8a39-4e96-a415-fc2308b0065d"
      },
      "outputs": [],
      "source": []
    }
  ],
  "metadata": {
    "kernelspec": {
      "display_name": "Python 3 (ipykernel)",
      "language": "python",
      "name": "python3"
    },
    "language_info": {
      "codemirror_mode": {
        "name": "ipython",
        "version": 3
      },
      "file_extension": ".py",
      "mimetype": "text/x-python",
      "name": "python",
      "nbconvert_exporter": "python",
      "pygments_lexer": "ipython3",
      "version": "3.10.8"
    },
    "colab": {
      "provenance": []
    }
  },
  "nbformat": 4,
  "nbformat_minor": 5
}