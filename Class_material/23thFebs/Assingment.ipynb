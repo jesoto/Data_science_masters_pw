{
 "cells": [
  {
   "attachments": {},
   "cell_type": "markdown",
   "metadata": {},
   "source": [
    "# Assignment: 23 Febs"
   ]
  },
  {
   "attachments": {},
   "cell_type": "markdown",
   "metadata": {},
   "source": [
    "1. What is Flask Framework? What are the advantages of Flask Framework?\n",
    "- Flask is a lightweight framework written in Python that allows developers to quickly build web applications with minimal code.\\\n",
    "\\\n",
    "Advantages:\n",
    "- Lightweight: does not reqire any particular tools or library to function\n",
    "- Easy to use: Easy to understand with a simple and intuitive API \n",
    "- great documentation\n",
    "- Extensible: developers can add third party extensions to the framework to add additional functionality"
   ]
  },
  {
   "attachments": {},
   "cell_type": "markdown",
   "metadata": {},
   "source": [
    "2. Create a simple Flask application to display ‘Hello World!!’. Attach the screenshot of the output in\n",
    "Jupyter Notebook."
   ]
  },
  {
   "attachments": {},
   "cell_type": "markdown",
   "metadata": {},
   "source": [
    "\n",
    "![SNOWFALL](2.png)"
   ]
  },
  {
   "attachments": {},
   "cell_type": "markdown",
   "metadata": {},
   "source": [
    "3. What is App routing in Flask? Why do we use app routes?"
   ]
  },
  {
   "attachments": {},
   "cell_type": "markdown",
   "metadata": {},
   "source": [
    "- App routing is a core function of the flask framework that allows developers to map URLS to functions or methods in ther flask application. Enables Flask to determine what function to execute based on the URLS request by the user\\\n",
    "\n",
    "**We use app routes in Flask for several reasons:**\n",
    "\n",
    "URL mapping: App routing allows us to map URLs to specific functions or methods in our Flask application, making it easier to handle requests and provide responses.\n",
    "\n",
    "Dynamic content: Using app routes, we can generate dynamic content by using URL parameters or variables. For example, we can define a route that accepts a username as a parameter and returns a personalized message.\n",
    "\n",
    "Separation of concerns: App routing allows us to separate the logic of our application into different functions or methods, making it easier to maintain and update our code.\n",
    "\n",
    "RESTful APIs: App routing is essential for building RESTful APIs with Flask. We can define different routes for different API endpoints, allowing clients to interact with our API using HTTP methods like GET, POST, PUT, and DELETE."
   ]
  },
  {
   "attachments": {},
   "cell_type": "markdown",
   "metadata": {},
   "source": [
    "4. Create a “/welcome” route to display the welcome message “Welcome to ABC Corporation” and a “/” route to show the following details:\\\n",
    "\\\n",
    "Company Name: ABC Corporation\\\n",
    "Location: India\\\n",
    "Contact Detail: 999-999-9999\n",
    "\n",
    "\n",
    "\n",
    "![SNOWFALL](4.1.png)\n",
    "\n",
    "\n",
    "![SNOWFALL](4.2.png)\n"
   ]
  }
 ],
 "metadata": {
  "kernelspec": {
   "display_name": "base",
   "language": "python",
   "name": "python3"
  },
  "language_info": {
   "codemirror_mode": {
    "name": "ipython",
    "version": 3
   },
   "file_extension": ".py",
   "mimetype": "text/x-python",
   "name": "python",
   "nbconvert_exporter": "python",
   "pygments_lexer": "ipython3",
   "version": "3.9.7"
  },
  "orig_nbformat": 4
 },
 "nbformat": 4,
 "nbformat_minor": 2
}
