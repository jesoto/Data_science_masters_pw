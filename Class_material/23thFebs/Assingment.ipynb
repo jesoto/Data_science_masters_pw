{
 "cells": [
  {
   "attachments": {},
   "cell_type": "markdown",
   "metadata": {},
   "source": [
    "# Assignment: 23 Febs"
   ]
  },
  {
   "attachments": {},
   "cell_type": "markdown",
   "metadata": {},
   "source": [
    "1. What is Flask Framework? What are the advantages of Flask Framework?\n",
    "- Flask is a lightweight framework written in Python that allows developers to quickly build web applications with minimal code.\\\n",
    "\\\n",
    "Advantages:\n",
    "- Lightweight: does not reqire any particular tools or library to function\n",
    "- Easy to use: Easy to understand with a simple and intuitive API \n",
    "- great documentation\n",
    "- Extensible: developers can add third party extensions to the framework to add additional functionality"
   ]
  },
  {
   "attachments": {},
   "cell_type": "markdown",
   "metadata": {},
   "source": [
    "2. Create a simple Flask application to display ‘Hello World!!’. Attach the screenshot of the output in\n",
    "Jupyter Notebook."
   ]
  },
  {
   "attachments": {},
   "cell_type": "markdown",
   "metadata": {},
   "source": [
    "\n",
    "![SNOWFALL](2.png)"
   ]
  },
  {
   "attachments": {},
   "cell_type": "markdown",
   "metadata": {},
   "source": [
    "3. What is App routing in Flask? Why do we use app routes?"
   ]
  },
  {
   "cell_type": "markdown",
   "metadata": {},
   "source": []
  }
 ],
 "metadata": {
  "language_info": {
   "name": "python"
  },
  "orig_nbformat": 4
 },
 "nbformat": 4,
 "nbformat_minor": 2
}
