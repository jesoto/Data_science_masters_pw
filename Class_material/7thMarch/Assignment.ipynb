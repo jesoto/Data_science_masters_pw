{
 "cells": [
  {
   "attachments": {},
   "cell_type": "markdown",
   "metadata": {},
   "source": [
    "# Assignment"
   ]
  },
  {
   "attachments": {},
   "cell_type": "markdown",
   "metadata": {},
   "source": [
    "1. What are the three measures of central tendency?\n",
    "- Mean\n",
    "- Median\n",
    "- Mode"
   ]
  },
  {
   "attachments": {},
   "cell_type": "markdown",
   "metadata": {},
   "source": [
    "2. What is the difference between the mean, median, and mode? How are they used to measure the\n",
    "central tendency of a dataset?"
   ]
  },
  {
   "attachments": {},
   "cell_type": "markdown",
   "metadata": {},
   "source": [
    "The three measures of central tendency are:\n",
    "\n",
    "- Mean: The mean is calculated by summing up all the values in a dataset and then dividing the sum by the total number of values. It represents the average value of the dataset.\n",
    "\n",
    "- Median: The median is the middle value in a dataset when the values are arranged in ascending or descending order. If the dataset has an odd number of values, the median is the middle value. If the dataset has an even number of values, the median is the average of the two middle values.\n",
    "\n",
    "- Mode: The mode is the value that appears most frequently in a dataset. Unlike the mean and median, which are numerical measures, the mode can be applied to both numerical and categorical data."
   ]
  },
  {
   "attachments": {},
   "cell_type": "markdown",
   "metadata": {},
   "source": [
    "3. Measure the three measures of central tendency for the given height data:"
   ]
  },
  {
   "cell_type": "code",
   "execution_count": 11,
   "metadata": {},
   "outputs": [
    {
     "name": "stdout",
     "output_type": "stream",
     "text": [
      "Mean: 177.01875\n",
      "Median: 177.0\n",
      "Mode: ModeResult(mode=array([177.]), count=array([3]))\n"
     ]
    },
    {
     "name": "stderr",
     "output_type": "stream",
     "text": [
      "C:\\Users\\B40235\\AppData\\Local\\Temp\\ipykernel_11736\\2863325594.py:6: FutureWarning: Unlike other reduction functions (e.g. `skew`, `kurtosis`), the default behavior of `mode` typically preserves the axis it acts along. In SciPy 1.11.0, this behavior will change: the default value of `keepdims` will become False, the `axis` over which the statistic is taken will be eliminated, and the value None will no longer be accepted. Set `keepdims` to True or False to avoid this warning.\n",
      "  print(f'Mode: {stats.mode(lis)}')\n"
     ]
    }
   ],
   "source": [
    "import numpy as np\n",
    "from scipy import stats\n",
    "lis = [178,177,176,177,178.2,178,175,179,180,175,178.9,176.2,177,172.5,178,176.5]\n",
    "print(f'Mean: {np.mean(lis)}')\n",
    "print(f'Median: {np.median(lis)}')\n",
    "print(f'Mode: {stats.mode(lis)}')"
   ]
  },
  {
   "attachments": {},
   "cell_type": "markdown",
   "metadata": {},
   "source": [
    "4. Find the standard deviation for the given data: [178,177,176,177,178.2,178,175,179,180,175,178.9,176.2,177,172.5,178,176.5]"
   ]
  },
  {
   "cell_type": "code",
   "execution_count": 12,
   "metadata": {},
   "outputs": [
    {
     "name": "stdout",
     "output_type": "stream",
     "text": [
      "Std : 1.7885814036548633\n"
     ]
    }
   ],
   "source": [
    "list_1 = [178,177,176,177,178.2,178,175,179,180,175,178.9,176.2,177,172.5,178,176.5]\n",
    "print(f'Std : {np.std(list_1)}')"
   ]
  },
  {
   "attachments": {},
   "cell_type": "markdown",
   "metadata": {},
   "source": [
    "5. How are measures of dispersion such as range, variance, and standard deviation used to describe\n",
    "the spread of a dataset? Provide an example."
   ]
  },
  {
   "attachments": {},
   "cell_type": "markdown",
   "metadata": {},
   "source": [
    "Measures of dispersion, such as range, variance, and standard deviation, are used to describe the spread or variability of a dataset. They provide insights into how the values in the dataset are distributed around the measures of central tendency (mean, median, or mode). Here's how each measure is used:\n",
    "\n",
    "- Range: The range is the simplest measure of dispersion and is calculated by subtracting the minimum value from the maximum value in a dataset. It represents the spread between the lowest and highest values. However, the range doesn't provide information about the distribution of values within that range.\\\n",
    "Example: Consider a dataset of exam scores: [65, 70, 75, 80, 85]. The range would be calculated as 85 - 65 = 20, indicating a spread of 20 points between the lowest and highest scores.\n",
    "\n",
    "- Variance: Variance measures how far each value in the dataset is from the mean. It is calculated by taking the average of the squared differences between each value and the mean. A higher variance indicates greater variability in the dataset.\\\n",
    "Example: Let's consider the same exam scores dataset. First, calculate the mean: (65 + 70 + 75 + 80 + 85) / 5 = 75. The squared differences from the mean for each value are: (65 - 75)^2 = 100, (70 - 75)^2 = 25, (75 - 75)^2 = 0, (80 - 75)^2 = 25, (85 - 75)^2 = 100. The variance is calculated as the average of these squared differences: (100 + 25 + 0 + 25 + 100) / 5 = 50.\n",
    "\n",
    "- Standard Deviation: The standard deviation is the square root of the variance. It measures the average amount by which the values in the dataset deviate from the mean. A higher standard deviation indicates greater dispersion or variability in the dataset.\\\n",
    "Example: Using the same exam scores dataset, the standard deviation would be calculated as the square root of the variance: √50 ≈ 7.07.\n",
    "\n",
    "In summary, the range provides a simple measure of the spread between the lowest and highest values. Variance and standard deviation provide more detailed information about the dispersion of values around the mean. They are commonly used in statistical analysis to assess the variability of data and compare distributions."
   ]
  },
  {
   "attachments": {},
   "cell_type": "markdown",
   "metadata": {},
   "source": [
    "6. What is a Venn diagram?\n",
    "- A Venn diagram is a graphical representation that uses overlapping circles or other shapes to visually illustrate the relationships between different sets or groups of items. It was introduced by the mathematician John Venn in the late 19th century."
   ]
  },
  {
   "attachments": {},
   "cell_type": "markdown",
   "metadata": {},
   "source": [
    "Q7. For the two given sets A = (2,3,4,5,6,7) & B = (0,2,6,8,10). Find:\n",
    "- $A \\cap B$ : {2,6}\n",
    "- $A \\cup B$ : {0,2,3,4,5,6,7,8,10}\n"
   ]
  },
  {
   "cell_type": "code",
   "execution_count": 13,
   "metadata": {},
   "outputs": [
    {
     "data": {
      "image/png": "[encoded data removed]",
      "text/plain": [
       "<IPython.core.display.Image object>"
      ]
     },
     "execution_count": 13,
     "metadata": {},
     "output_type": "execute_result"
    }
   ],
   "source": [
    "from IPython import display\n",
    "display.Image(\"ven.png\")"
   ]
  },
  {
   "cell_type": "code",
   "execution_count": 28,
   "metadata": {},
   "outputs": [
    {
     "data": {
      "image/png": "[encoded data removed]",
      "text/plain": [
       "<IPython.core.display.Image object>"
      ]
     },
     "execution_count": 28,
     "metadata": {},
     "output_type": "execute_result"
    }
   ],
   "source": [
    "from IPython import display\n",
    "display.Image(\"venN.png\")"
   ]
  },
  {
   "attachments": {},
   "cell_type": "markdown",
   "metadata": {},
   "source": [
    "8. What do you understand about skewness in data?\n",
    "- Skewness is a measure of the asymmetry or lack of symmetry in a distribution of data. It helps to describe the shape of the distribution by indicating the direction and degree of deviation from a symmetrical bell-shaped curve."
   ]
  },
  {
   "attachments": {},
   "cell_type": "markdown",
   "metadata": {},
   "source": [
    "9. If a data is right skewed then what will be the position of median with respect to mean?"
   ]
  },
  {
   "attachments": {},
   "cell_type": "markdown",
   "metadata": {},
   "source": [
    "In a right-skewed distribution, the median will typically be lower than the mean. This is because the tail of the distribution, which contains the relatively few extremely high values, pulls the mean towards the right (higher values), resulting in an increased mean.\n",
    "\n",
    "To understand this, let's consider the characteristics of a right-skewed distribution:\n",
    "\n",
    "- The tail of the distribution extends towards the right, indicating the presence of a few extremely high values.\n",
    "- The majority of the data is concentrated on the left side of the distribution.\n",
    "- The mean is influenced by the high values in the right tail, pulling it towards the right.\n",
    "\n",
    "Since the median represents the middle value in a dataset when the values are arranged in ascending or descending order, it is less affected by extreme values compared to the mean. The median is determined by the relative position of the values, not their magnitude. Therefore, in a right-skewed distribution, where the high values in the right tail pull the mean towards the right, the median will typically be lower than the mean."
   ]
  },
  {
   "attachments": {},
   "cell_type": "markdown",
   "metadata": {},
   "source": [
    "10. Explain the difference between covariance and correlation. How are these measures used in\n",
    "statistical analysis?"
   ]
  },
  {
   "attachments": {},
   "cell_type": "markdown",
   "metadata": {},
   "source": [
    "Covariance and correlation are both statistical measures that describe the relationship between two variables. However, they differ in their interpretation and scale of measurement. Here's an explanation of the difference between covariance and correlation:\n",
    "\n",
    "- Covariance: Covariance measures the extent to which two variables vary together. It quantifies the direction (positive or negative) and magnitude of the linear relationship between two variables. A positive covariance indicates that as one variable increases, the other tends to increase as well, while a negative covariance indicates that as one variable increases, the other tends to decrease. Covariance is affected by the scale of the variables, and its value is not standardized.\n",
    "\n",
    "- Correlation: Correlation is a standardized version of covariance. It measures the strength and direction of the linear relationship between two variables on a scale from -1 to +1. A correlation of +1 indicates a perfect positive linear relationship, a correlation of -1 indicates a perfect negative linear relationship, and a correlation of 0 indicates no linear relationship. Correlation is unitless and does not depend on the scale of the variables. It provides a standardized measure that allows for easier interpretation and comparison across different datasets.\n",
    "\n",
    "Both covariance and correlation are used in statistical analysis to understand the relationship between variables. Some common applications include:\n",
    "\n",
    "- Relationship Assessment: Covariance and correlation are used to assess the strength and direction of the relationship between variables. They help determine whether two variables move together (positive relationship), move in opposite directions (negative relationship), or have no linear relationship.\n",
    "\n",
    "- Variable Selection: In regression analysis or predictive modeling, covariance and correlation can be used to identify variables that are strongly related to each other. This helps in selecting the most relevant and independent variables for building predictive models.\n",
    "\n",
    "- Portfolio Management: Covariance and correlation are important in finance for assessing the relationship between different assets or investments. They help determine the diversification benefits of combining assets in a portfolio and assess the risk associated with investment decisions."
   ]
  },
  {
   "attachments": {},
   "cell_type": "markdown",
   "metadata": {},
   "source": [
    "11. What is the formula for calculating the sample mean? Provide an example calculation for a\n",
    "dataset."
   ]
  },
  {
   "attachments": {},
   "cell_type": "markdown",
   "metadata": {},
   "source": [
    "The formula for calculating the sample mean is:\n",
    "\n",
    "Sample Mean (x̄) = (Sum of all values in the dataset) / (Number of values in the dataset)\n",
    "\n",
    "To calculate the sample mean, you add up all the values in the dataset and then divide the sum by the total number of values.\n",
    "\n",
    "Here's an example calculation:\n",
    "\n",
    "Consider a dataset of exam scores: [70, 80, 75, 85, 90]\n",
    "\n",
    "To calculate the sample mean:\n",
    "\n",
    "Sum of all values = 70 + 80 + 75 + 85 + 90 = 400\n",
    "\n",
    "Number of values = 5 (since there are five scores in the dataset)\n",
    "\n",
    "Sample Mean (x̄) = 400 / 5 = 80\n",
    "\n",
    "Therefore, the sample mean of the dataset is 80."
   ]
  },
  {
   "attachments": {},
   "cell_type": "markdown",
   "metadata": {},
   "source": [
    "12. For a normal distribution data what is the relationship between its measure of central tendency?\n",
    "- In a perfectly symmetrical normal distribution, the mean, median, and mode will have the same value."
   ]
  },
  {
   "attachments": {},
   "cell_type": "markdown",
   "metadata": {},
   "source": [
    "13. How is covariance different from correlation?"
   ]
  },
  {
   "attachments": {},
   "cell_type": "markdown",
   "metadata": {},
   "source": [
    "Covariance and correlation are both measures that describe the relationship between two variables. While they are related, there are some key differences between them:\n",
    "\n",
    "- Interpretation: Covariance measures the extent to which two variables vary together. It indicates the direction (positive or negative) and magnitude of the linear relationship between variables. However, the actual value of covariance does not have a standardized interpretation, making it difficult to compare across different datasets. Correlation, on the other hand, is a standardized measure that ranges from -1 to +1. It provides a standardized interpretation of the strength and direction of the linear relationship between variables, allowing for easier comparison.\n",
    "\n",
    "- Scale-dependency: Covariance is affected by the scale of the variables being measured. Since covariance involves multiplying the differences between values, it is influenced by the units of measurement. Therefore, comparing covariances between variables with different scales can be misleading. Correlation, on the other hand, is scale-free. It is calculated by dividing the covariance by the product of the standard deviations of the variables, thus removing the scale dependency. This makes correlation a more useful measure when comparing the strength of relationships between variables.\n",
    "\n",
    "- Range: Covariance has an unbounded range, meaning it can take any real value. The value of covariance depends on the magnitude of the variables being measured. Correlation, on the other hand, has a fixed range from -1 to +1. A correlation of +1 indicates a perfect positive linear relationship, -1 indicates a perfect negative linear relationship, and 0 indicates no linear relationship.\n",
    "\n",
    "- Interpretation of relationship: Covariance does not provide a clear indication of the strength or degree of association between variables. It merely indicates the direction of the relationship (positive or negative). Correlation, being standardized, provides a more precise measure of the strength of the linear relationship. A correlation close to +1 or -1 indicates a strong relationship, while a correlation close to 0 indicates a weak or no linear relationship."
   ]
  },
  {
   "attachments": {},
   "cell_type": "markdown",
   "metadata": {},
   "source": [
    "14. How do outliers affect measures of central tendency and dispersion? Provide an example."
   ]
  },
  {
   "attachments": {},
   "cell_type": "markdown",
   "metadata": {},
   "source": [
    "Outliers can have a significant impact on measures of central tendency and dispersion. Their presence can distort these measures, affecting the overall understanding of the data. Here's how outliers can influence measures of central tendency and dispersion:\n",
    "\n",
    "Measures of Central Tendency:\n",
    "- Mean: Outliers can greatly affect the mean since it takes into account every value in the dataset. Outliers that are extremely large or small compared to the other values can significantly shift the mean towards their direction.\n",
    "- Median: The median is less affected by outliers since it is based on the middle value of the dataset. Outliers have a minimal impact on the median as long as they are not in the middle position themselves.\n",
    "- Mode: Outliers do not affect the mode directly since it represents the most frequently occurring value. However, if there are outliers that occur more frequently than other values, they can influence the mode.\n",
    "\n",
    "\n",
    "Example: Consider a dataset of exam scores: [70, 75, 80, 85, 90, 250]. In this dataset, 250 is an outlier as it is much larger than the other scores. If we calculate the measures of central tendency:\n",
    "\n",
    "Mean: (70 + 75 + 80 + 85 + 90 + 250) / 6 = 101.67. The presence of the outlier significantly increases the mean, making it no longer representative of the majority of the scores.\n",
    "Median: The median remains unaffected by the outlier since it is the middle value. In this case, the median is 82.5, which represents the central tendency of the majority of scores.\n",
    "Mode: The mode is not affected by the outlier as it represents the most common value. In this dataset, there is no repeated value, so there is no mode.\n",
    "Measures of Dispersion:\n",
    "- Range: Outliers can have a substantial impact on the range, as they can greatly increase or decrease the difference between the minimum and maximum values.\n",
    "- Variance and Standard Deviation: Outliers can significantly affect the variance and standard deviation since these measures are based on the deviations from the mean. Outliers with extreme values can increase the spread of the data, leading to larger variances and standard deviations.\n",
    "\n",
    "\n",
    "Example: Continuing with the previous dataset of exam scores, the range is affected by the outlier. The range without the outlier is 90 - 70 = 20, while the range with the outlier becomes 250 - 70 = 180, showing a significant increase in the spread of the data due to the outlier."
   ]
  },
  {
   "attachments": {},
   "cell_type": "markdown",
   "metadata": {},
   "source": []
  }
 ],
 "metadata": {
  "kernelspec": {
   "display_name": "Python 3",
   "language": "python",
   "name": "python3"
  },
  "language_info": {
   "codemirror_mode": {
    "name": "ipython",
    "version": 3
   },
   "file_extension": ".py",
   "mimetype": "text/x-python",
   "name": "python",
   "nbconvert_exporter": "python",
   "pygments_lexer": "ipython3",
   "version": "3.11.3"
  },
  "orig_nbformat": 4
 },
 "nbformat": 4,
 "nbformat_minor": 2
}
