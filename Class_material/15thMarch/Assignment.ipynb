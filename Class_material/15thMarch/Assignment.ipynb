{
 "cells": [
  {
   "attachments": {},
   "cell_type": "markdown",
   "metadata": {},
   "source": [
    "# Assignment \n"
   ]
  },
  {
   "attachments": {},
   "cell_type": "markdown",
   "metadata": {},
   "source": [
    "1.  Explain the following with an example:\n",
    "    1.  Artificial Inteligence: it refers to the capability to made a computer learn something how the humans learns.\n",
    "        \n",
    "        Example: Siri assistant\n",
    "    2. Machine learning: is a subset of artificial intelligence that refers to developing algorithms and models without explicitly being programmed\n",
    "        \n",
    "        example: email spam\n",
    "    3.  Deep learning: subfield of machine learning that focused on training artificial neural networks ti recognize and understand complex patterns in data.\n",
    "        \n",
    "        Example: image recognition "
   ]
  },
  {
   "attachments": {},
   "cell_type": "markdown",
   "metadata": {},
   "source": [
    "2. What is supervised learning? List some example\n",
    "\n",
    "Supervised learning is a type of machine learning where the model learns from labeled training data. In supervised learning, the dataset consists of input features (or attributes) and corresponding target labels or outputs.\n",
    "\n",
    "    Examples\n",
    "    - Linear regression\n",
    "    - Decision Trees\n",
    "    - Support Vector machines"
   ]
  },
  {
   "attachments": {},
   "cell_type": "markdown",
   "metadata": {},
   "source": [
    "3. What is insupervised learning? list some examples\n",
    "\n",
    "Unsupervised learning is a type of machine learning where the model learns from unlabeled data without any predefined target labels. The objective is to find patterns, structures, or relationships within the data without explicit guidance.\n",
    "\n",
    "    Examples:\n",
    "    - clustering\n",
    "    - dimensionality reduction\n",
    "    - Anomaly detection\n",
    "    - Association Rule mining "
   ]
  },
  {
   "attachments": {},
   "cell_type": "markdown",
   "metadata": {},
   "source": [
    "4. What iis the difference between AI, ML, DL,and DS?"
   ]
  },
  {
   "attachments": {},
   "cell_type": "markdown",
   "metadata": {},
   "source": [
    "Artificial Intelligence (AI) is a broad field that encompasses the development of intelligent machines that can simulate human intelligence and perform tasks that would typically require human intelligence, such as speech recognition, decision-making, and problem-solving.\n",
    "\n",
    "Machine Learning (ML) is a subset of AI that focuses on designing algorithms and models that enable machines to learn from data, identify patterns, and make predictions or decisions without being explicitly programmed. ML algorithms can be categorized into supervised, unsupervised, and reinforcement learning.\n",
    "\n",
    "Deep Learning (DL) is a subset of ML that uses artificial neural networks with multiple layers to process and learn from complex data representations. DL is particularly effective for tasks such as image and speech recognition, natural language processing, and computer vision.\n",
    "\n",
    "Data Science (DS) is a multidisciplinary field that combines techniques from mathematics, statistics, computer science, and domain expertise to extract insights and knowledge from data. Data scientists use various tools and techniques, including AI, ML, and DL, to analyze, interpret, and draw meaningful conclusions from data."
   ]
  },
  {
   "attachments": {},
   "cell_type": "markdown",
   "metadata": {},
   "source": [
    "5. What are the main difference between supervised, unsupervised, and semi-supervised learning?\n",
    "\n",
    "The main difference refers to the kind of data needed to train the algorithm. In the case of the supervised learning we need the labeled data for the dependent varaible. On the other hand, for the unsupervised learning we dont need a dependant varaible, only the inputs. Finally, for semi-supervised learning is a combination of both cases"
   ]
  },
  {
   "attachments": {},
   "cell_type": "markdown",
   "metadata": {},
   "source": [
    "6. What is train, test and validation split? Explain the importance of each of them."
   ]
  },
  {
   "attachments": {},
   "cell_type": "markdown",
   "metadata": {},
   "source": [
    "- Training Set: The training set is the largest portion of the dataset, used to train the model. The model learns from the input features and corresponding target labels in this set. It is crucial to have a sufficiently large and diverse training set to enable the model to generalize well.\n",
    "\n",
    "- Test Set: The test set is a separate portion of the dataset that is used to evaluate the model's performance and assess its ability to make accurate predictions on new, unseen data. The test set should be representative of the real-world data that the model will encounter.\n",
    "\n",
    "- Validation Set: The validation set is an optional subset of the dataset that is used to tune the hyperparameters of the model and assess its generalization ability during the training process. It helps in fine-tuning the model by providing feedback on its performance on data that it hasn't seen during training."
   ]
  },
  {
   "attachments": {},
   "cell_type": "markdown",
   "metadata": {},
   "source": [
    "7. How can unsupervised learning be used in anomaly detection?\n",
    "\n",
    "In unsupervised anomaly detection, the algorithm analyzes the unlabeled data and learns the underlying structure. It identifies data points that are dissimilar or significantly different from the majority of the data. Techniques such as clustering, density estimation, and distance-based methods are commonly used in unsupervised anomaly detection."
   ]
  },
  {
   "attachments": {},
   "cell_type": "markdown",
   "metadata": {},
   "source": [
    "8. List down some commonly used supervised learning algorithms and unsupervised learning algorithms\n",
    "\n",
    "\n",
    "Commonly used supervised learning algorithms include:\n",
    "- Linear Regression\n",
    "- Logistic Regression\n",
    "- Decision Trees\n",
    "- Random Forests\n",
    "- Support Vector Machines (SVM)\n",
    "- Naive Bayes\n",
    "- K-Nearest Neighbors (KNN)\n",
    "- Gradient Boosting algorithms (e.g., XGBoost, LightGBM)\n",
    "\n",
    "Commonly used unsupervised learning algorithms include:\n",
    "\n",
    "- K-Means Clustering\n",
    "- Hierarchical Clustering\n",
    "\n",
    "\n",
    "\n"
   ]
  },
  {
   "attachments": {},
   "cell_type": "markdown",
   "metadata": {},
   "source": []
  }
 ],
 "metadata": {
  "language_info": {
   "name": "python"
  },
  "orig_nbformat": 4
 },
 "nbformat": 4,
 "nbformat_minor": 2
}
