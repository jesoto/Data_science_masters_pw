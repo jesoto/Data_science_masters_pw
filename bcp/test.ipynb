{
 "cells": [
  {
   "cell_type": "code",
   "execution_count": 34,
   "metadata": {},
   "outputs": [],
   "source": [
    "import pandas as pd\n",
    "import numpy as np\n",
    "\n",
    "na_values = [\"unknown\"]\n",
    "\n",
    "df = pd.read_csv('base_test_x.csv',\n",
    "                 na_values=na_values,\n",
    "                 sep=',')"
   ]
  },
  {
   "cell_type": "code",
   "execution_count": 35,
   "metadata": {},
   "outputs": [],
   "source": [
    "ides = df['ID']"
   ]
  },
  {
   "cell_type": "code",
   "execution_count": 36,
   "metadata": {},
   "outputs": [
    {
     "data": {
      "text/plain": [
       "(11747, 20)"
      ]
     },
     "execution_count": 36,
     "metadata": {},
     "output_type": "execute_result"
    }
   ],
   "source": [
    "df.shape"
   ]
  },
  {
   "cell_type": "code",
   "execution_count": 37,
   "metadata": {},
   "outputs": [
    {
     "name": "stdout",
     "output_type": "stream",
     "text": [
      "Valores perdidos en TRABAJO: 0\n",
      "Valores perdidos en ESTADO_CIVIL: 0\n",
      "Valores perdidos en EDUCACION: 0\n",
      "Valores perdidos en VIVIENDA: 0\n",
      "Valores perdidos en PRESTAMO: 0\n"
     ]
    }
   ],
   "source": [
    "df['TRABAJO'].fillna(df['TRABAJO'].mode()[0], inplace=True)\n",
    "print(\"Valores perdidos en TRABAJO: \" + \n",
    "      str(df['TRABAJO'].isnull().sum()))\n",
    "\n",
    "def clas_work(x):\n",
    "    if x  in ['student','unemployed','retired']:\n",
    "        return 0\n",
    "    else:\n",
    "        return 1\n",
    "    \n",
    "df['TRABAJO'] = df.TRABAJO.apply(clas_work)\n",
    "\n",
    "\n",
    "df['ESTADO_CIVIL'].fillna(df['ESTADO_CIVIL'].mode()[0], inplace=True)\n",
    "print(\"Valores perdidos en ESTADO_CIVIL: \" + \n",
    "      str(df['ESTADO_CIVIL'].isnull().sum()))\n",
    "\n",
    "df = df.replace({'ESTADO_CIVIL':{' married':'married', 'marrid': 'married','singgle ':'single'\n",
    "                            ,'single ': 'single', 'divorced ':'divorced','d_ivorced': 'divorced'}})\n",
    "\n",
    "\n",
    "df = pd.concat([df.drop(columns='ESTADO_CIVIL', axis=1),pd.get_dummies(df['ESTADO_CIVIL'], drop_first=True)], axis=1)\n",
    "\n",
    "df['EDUCACION'].fillna(df['EDUCACION'].mode()[0], inplace=True)\n",
    "print(\"Valores perdidos en EDUCACION: \" + \n",
    "      str(df['EDUCACION'].isnull().sum()))\n",
    "\n",
    "df['EDUCACION'] = df.EDUCACION.replace({'illiterate': 'basic','basic.6y': 'basic','basic.4y':'basic','basic.9y':'basic','unknown':np.nan})\n",
    "df['EDUCACION'] = df['EDUCACION'].replace({'basic':1,'high.school': 2 ,'professional.course':3, 'university.degree':4 })\n",
    "\n",
    "df.drop(['INCUMPLIMIENTO'], axis=1, inplace=True)\n",
    "\n",
    "df['VIVIENDA'].fillna(df['VIVIENDA'].mode()[0], inplace=True)\n",
    "print(\"Valores perdidos en VIVIENDA: \" + \n",
    "      str(df['VIVIENDA'].isnull().sum()))\n",
    "\n",
    "df['VIVIENDA'] = df['VIVIENDA'].replace({'yes':1,'no':0})\n",
    "\n",
    "\n",
    "# Imputamos la variable PRESTAMO con la moda\n",
    "df['PRESTAMO'].fillna(df['PRESTAMO'].mode()[0], inplace=True)\n",
    "print(\"Valores perdidos en PRESTAMO: \" + \n",
    "      str(df['PRESTAMO'].isnull().sum()))\n",
    "\n",
    "df['PRESTAMO'] = df['PRESTAMO'].replace({'yes':1,'no':0})\n",
    "\n",
    "df['TIPO_CONTACTO'] = df.TIPO_CONTACTO.replace({'cellular':1,'telephone':0})\n",
    "\n",
    "df['MES'] = df['MES'].replace(\n",
    "    {'may': 5,\n",
    " 'sep': 9,\n",
    " 'oct': 10,\n",
    " 'jun': 6,\n",
    " 'nov': 11,\n",
    " 'apr': 4,\n",
    " 'aug': 8,\n",
    " 'jul': 7,\n",
    " 'mar': 3,\n",
    " 'dec': 12})\n",
    "\n",
    "df['RESULT_PREVIO'] = df['RESULT_PREVIO'].replace({'failure':2,'nonexistent': 1,'success':3})\n",
    "\n",
    "df.drop(columns=['ID','MES'], axis=1, inplace=True)"
   ]
  },
  {
   "cell_type": "code",
   "execution_count": 27,
   "metadata": {},
   "outputs": [
    {
     "data": {
      "text/plain": [
       "(11747, 18)"
      ]
     },
     "execution_count": 27,
     "metadata": {},
     "output_type": "execute_result"
    }
   ],
   "source": [
    "df.shape"
   ]
  },
  {
   "cell_type": "code",
   "execution_count": 39,
   "metadata": {},
   "outputs": [],
   "source": [
    "import pickle"
   ]
  },
  {
   "cell_type": "code",
   "execution_count": 40,
   "metadata": {},
   "outputs": [],
   "source": [
    "pickled_model = pickle.load(open('model.pkl', 'rb'))\n"
   ]
  },
  {
   "cell_type": "code",
   "execution_count": 41,
   "metadata": {},
   "outputs": [],
   "source": [
    "X_test = df.copy()"
   ]
  },
  {
   "cell_type": "code",
   "execution_count": 58,
   "metadata": {},
   "outputs": [],
   "source": [
    "y_pred = pickled_model.predict_proba(X_test)[:,1]\n"
   ]
  },
  {
   "cell_type": "code",
   "execution_count": 59,
   "metadata": {},
   "outputs": [
    {
     "data": {
      "text/plain": [
       "11747"
      ]
     },
     "execution_count": 59,
     "metadata": {},
     "output_type": "execute_result"
    }
   ],
   "source": [
    "len(y_pred)"
   ]
  },
  {
   "cell_type": "code",
   "execution_count": 62,
   "metadata": {},
   "outputs": [],
   "source": [
    "df_pred = pd.concat([ides, pd.Series(y_pred)], axis=1).rename(columns={0:'ACEPTACION'})"
   ]
  },
  {
   "cell_type": "code",
   "execution_count": 64,
   "metadata": {},
   "outputs": [],
   "source": [
    "df_pred.to_csv(\"preds.csv\", header=True, index=False)"
   ]
  }
 ],
 "metadata": {
  "kernelspec": {
   "display_name": "Python 3",
   "language": "python",
   "name": "python3"
  },
  "language_info": {
   "codemirror_mode": {
    "name": "ipython",
    "version": 3
   },
   "file_extension": ".py",
   "mimetype": "text/x-python",
   "name": "python",
   "nbconvert_exporter": "python",
   "pygments_lexer": "ipython3",
   "version": "3.8.8"
  },
  "orig_nbformat": 4
 },
 "nbformat": 4,
 "nbformat_minor": 2
}
