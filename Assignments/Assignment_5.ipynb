{
 "cells": [
  {
   "attachments": {},
   "cell_type": "markdown",
   "id": "c4a3edb1",
   "metadata": {},
   "source": [
    "# Python Task 6/02/23"
   ]
  },
  {
   "attachments": {},
   "cell_type": "markdown",
   "id": "c7ca1752",
   "metadata": {},
   "source": [
    "1. Create a function which will take a list as an argument and return the product of all the numbers\n",
    "after creating a flat list.\n",
    "Use the below-given list as an argument for your function.\n",
    "\n",
    "Note: you must extract numeric keys and values of the dictionary also."
   ]
  },
  {
   "cell_type": "code",
   "execution_count": 2,
   "id": "4f6267c4",
   "metadata": {},
   "outputs": [],
   "source": [
    "list1 = [1,2,3,4, [44,55,66, True], False, (34,56,78,89,34), {1,2,3,3,2,1}, {1:34, \"key2\": [55, 67, 78, 89], 4: (45,\n",
    "22, 61, 34)}, [56, 'data science'], 'Machine Learning']\n"
   ]
  },
  {
   "cell_type": "code",
   "execution_count": 3,
   "id": "e7a49352",
   "metadata": {},
   "outputs": [],
   "source": [
    "def total_product(items):\n",
    "    flat_list = []\n",
    "    for item in items:\n",
    "        if isinstance(item,(int, float, complex)) :\n",
    "                     flat_list.append(item)\n",
    "        elif isinstance(item, (list, tuple, set)) :\n",
    "                     flat_list.extend([i for i in item if isinstance(i,(int, float,complex))])\n",
    "        elif isinstance(item, dict):\n",
    "                      for key, value in item.items():\n",
    "                          if isinstance(key, (int, float, complex)) : \n",
    "                              flat_list.append(key)\n",
    "                          if isinstance(value, (int, float, complex)) :\n",
    "                              flat_list.append(value)\n",
    "                      \n",
    "    prod = 1\n",
    "    for i in flat_list:\n",
    "        prod *= i\n",
    "    return prod"
   ]
  },
  {
   "cell_type": "code",
   "execution_count": 7,
   "id": "b063ee53",
   "metadata": {},
   "outputs": [
    {
     "data": {
      "text/plain": [
       "0"
      ]
     },
     "execution_count": 7,
     "metadata": {},
     "output_type": "execute_result"
    }
   ],
   "source": [
    "total_product(list1)"
   ]
  },
  {
   "attachments": {},
   "cell_type": "markdown",
   "id": "11131f66",
   "metadata": {},
   "source": [
    "2. Write a python program for encrypting a message sent to you by your friend. The logic of encryption\n",
    "should be such that, for a the output should be z. For b, the output should be y. For c, the output should\n",
    "be x respectively. Also, the whitespace should be replaced with a dollar sign. Keep the punctuation\n",
    "marks unchanged."
   ]
  },
  {
   "cell_type": "code",
   "execution_count": 56,
   "id": "8ab55b81",
   "metadata": {},
   "outputs": [],
   "source": [
    "def encriptador(word : str):\n",
    "    #create a list of all the letter of the alphabet\n",
    "    alfabet = [chr(i) for i in range(ord('a'),ord('z')+1)] \n",
    "    #lower the arg word\n",
    "    encrypted = word.lower()\n",
    "    for i in encrypted:\n",
    "        if i.isalpha() == True:\n",
    "            new_index = (alfabet.index(i) +1 )*-1\n",
    "            encrypted = encrypted.replace(i,alfabet[new_index])\n",
    "\n",
    "        elif i.isspace() == True:\n",
    "            encrypted = encrypted.replace(' ','$')\n",
    "\n",
    "    return encrypted    "
   ]
  },
  {
   "cell_type": "code",
   "execution_count": 59,
   "id": "4c708d80-0b64-451b-9aa8-2a832993e171",
   "metadata": {},
   "outputs": [
    {
     "data": {
      "text/plain": [
       "'r$wzmg$gl$yvxlmv$z$wzgz$hxrvmgrhg.'"
      ]
     },
     "execution_count": 59,
     "metadata": {},
     "output_type": "execute_result"
    }
   ],
   "source": [
    "encriptador('I want to become a Data Scientist.')"
   ]
  }
 ],
 "metadata": {
  "kernelspec": {
   "display_name": "base",
   "language": "python",
   "name": "python3"
  },
  "language_info": {
   "codemirror_mode": {
    "name": "ipython",
    "version": 3
   },
   "file_extension": ".py",
   "mimetype": "text/x-python",
   "name": "python",
   "nbconvert_exporter": "python",
   "pygments_lexer": "ipython3",
   "version": "3.9.7"
  },
  "vscode": {
   "interpreter": {
    "hash": "1cca9558bc5ad879ec93cc030b157d75f18267527c60932cecaace349eef54dd"
   }
  }
 },
 "nbformat": 4,
 "nbformat_minor": 5
}
