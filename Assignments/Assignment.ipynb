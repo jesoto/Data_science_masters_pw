{
 "cells": [
  {
   "cell_type": "markdown",
   "id": "27ae7b49-74a5-4187-813d-cfae1d748be9",
   "metadata": {},
   "source": [
    "# Assignment: Dict, tuples  and sets"
   ]
  },
  {
   "cell_type": "markdown",
   "id": "65965329-d37f-402c-bee6-208385ae580a",
   "metadata": {},
   "source": [
    "1. What are the characteristics of tthe tuples? Is tuple inmutable?\n",
    "- The tuples are ordered, which means that are stored in an specific order.\n",
    "- Are iterable which means that you can use on loops of other methods\n",
    "- Tuples can concatin elements od differents data types\n",
    "- Yes, tuples are inmutables, once the tuple is created the elements can not be modified or updated"
   ]
  },
  {
   "cell_type": "markdown",
   "id": "ec5bb23a-855c-4b05-886a-19e3867ed553",
   "metadata": {},
   "source": [
    "2. What are the two tuple methods in python? Give an example of each method. Give a reason why tuples have only two in-built methods as compared to Lists."
   ]
  },
  {
   "cell_type": "markdown",
   "id": "ea6852bd-8e46-4ca0-a2c4-18338065eb0e",
   "metadata": {},
   "source": [
    "The 2 only tuples methods are count() and index(). I think that these are the only 2 methods because the main characteristic of a tuple is that is inmutable and is ordered, so is has sense that the methods where related to that specific characteristics"
   ]
  },
  {
   "cell_type": "code",
   "execution_count": 2,
   "id": "7318bb7b-200c-4082-9824-da0dfacd56b0",
   "metadata": {},
   "outputs": [
    {
     "data": {
      "text/plain": [
       "1"
      ]
     },
     "execution_count": 2,
     "metadata": {},
     "output_type": "execute_result"
    }
   ],
   "source": [
    "# index()\n",
    "\"\"\"\n",
    "with the method index we can find the index for the element \n",
    "that we want to find\n",
    "\"\"\"\n",
    "atuple = (1,2,3,4)\n",
    "\n",
    "atuple.index(2)"
   ]
  },
  {
   "cell_type": "code",
   "execution_count": 4,
   "id": "e3f0dbe8-a6c0-4321-a01e-2e2305bceaa3",
   "metadata": {},
   "outputs": [
    {
     "data": {
      "text/plain": [
       "4"
      ]
     },
     "execution_count": 4,
     "metadata": {},
     "output_type": "execute_result"
    }
   ],
   "source": [
    "#count()\n",
    "\"\"\"\n",
    "with the count method we can count the number of timers of a \n",
    "specific element that appear in the tupple\n",
    "\n",
    "\"\"\"\n",
    "\n",
    "atuple =(1,1,2,3,4,1,1,6)\n",
    "atuple.count(1)"
   ]
  },
  {
   "cell_type": "markdown",
   "id": "89a744c8-7bea-42e8-919e-86dd9ab6fa62",
   "metadata": {},
   "source": [
    "3. Which collection datatypes in python do not allow duplicate items? Write a code using a set to remove duplicates from the given list.\n",
    "- The sets are the datatypes that not allow duplicates"
   ]
  },
  {
   "cell_type": "code",
   "execution_count": 10,
   "id": "171c5e6a-ce2b-4ee5-9d90-e2d1a499d123",
   "metadata": {},
   "outputs": [
    {
     "name": "stdout",
     "output_type": "stream",
     "text": [
      "[1, 2, 3, 4]\n"
     ]
    }
   ],
   "source": [
    "List = [1, 1, 1, 2, 1, 3, 1, 4, 2, 1, 2, 2, 2, 3, 2, 4, 3, 1, 3, 2, 3, 3, 3, 4, 4, 1, 4, 2, 4, 3, 4, 4]\n",
    "#we drop the duplicates by turning the list into a set\n",
    "aset = set(List)\n",
    "#then we transform this set to a new list without the duplicates\n",
    "new_list = list(aset)\n",
    "print(new_list)"
   ]
  },
  {
   "cell_type": "markdown",
   "id": "be571faf-ac76-46ba-bca6-172fd44f23a3",
   "metadata": {},
   "source": [
    "4. Explain the difference between the union() and update() methods for a set. Give an example of\n",
    "each method.\n",
    "- The maindifferencec between union an update  i that union return a brand new set. On the other site, update modifies the original set."
   ]
  },
  {
   "cell_type": "code",
   "execution_count": 12,
   "id": "13c46649-ef83-4e82-995a-fd92ae8c7463",
   "metadata": {},
   "outputs": [
    {
     "name": "stdout",
     "output_type": "stream",
     "text": [
      "{1, 2, 3, 4}\n"
     ]
    }
   ],
   "source": [
    "set1 = {1, 2, 3}\n",
    "set2 = {2, 3, 4}\n",
    "union_set = set1.union(set2)\n",
    "print(union_set)  # Output: {1, 2, 3, 4}\n"
   ]
  },
  {
   "cell_type": "code",
   "execution_count": 13,
   "id": "6010ab7e-c252-4033-a3e4-de9f1465c255",
   "metadata": {},
   "outputs": [
    {
     "name": "stdout",
     "output_type": "stream",
     "text": [
      "{1, 2, 3, 4}\n"
     ]
    }
   ],
   "source": [
    "set1 = {1, 2, 3}\n",
    "set2 = {2, 3, 4}\n",
    "set1.update(set2)\n",
    "print(set1)  # Output: {1, 2, 3, 4}\n"
   ]
  },
  {
   "cell_type": "markdown",
   "id": "3dc75b70-34c0-4700-b0d1-78bfd5cd625b",
   "metadata": {},
   "source": [
    "5. What is a dictionary? Give an example. Also, state whether a dictionary is ordered or unordered.\n",
    "- A dictionary is a collection of data types that pairs of values that have a key and an associated value.\n",
    "- The dictionaries are unordered"
   ]
  },
  {
   "cell_type": "code",
   "execution_count": 15,
   "id": "f6f72b51-f0f8-4534-847b-38756df17fe8",
   "metadata": {},
   "outputs": [
    {
     "name": "stdout",
     "output_type": "stream",
     "text": [
      "{'apple': 2, 'banana': 3, 'orange': 1}\n"
     ]
    }
   ],
   "source": [
    "my_dict = {\"apple\": 2, \"banana\": 3, \"orange\": 1}\n",
    "print(my_dict)\n"
   ]
  },
  {
   "cell_type": "markdown",
   "id": "1f194512-e72d-4260-ad8f-eefd6562fecb",
   "metadata": {},
   "source": [
    "6. Can we create a nested dictionary? If so, please give an example by creating a simple one-level\n",
    "nested dictionary.\n",
    "- we can create nested dictionaries. In the example these is 2 nested dictionaries associated with the keys fruits and vegetable"
   ]
  },
  {
   "cell_type": "code",
   "execution_count": 17,
   "id": "a3ba4d76-6f27-4c81-9528-77340e3b6434",
   "metadata": {},
   "outputs": [
    {
     "name": "stdout",
     "output_type": "stream",
     "text": [
      "{'fruits': {'apple': 2, 'banana': 3, 'orange': 1}, 'vegetables': {'carrot': 5, 'lettuce': 2, 'tomato': 3}}\n"
     ]
    }
   ],
   "source": [
    "my_dict = {\"fruits\": {\"apple\": 2, \"banana\": 3, \"orange\": 1}, \"vegetables\": {\"carrot\": 5, \"lettuce\": 2, \"tomato\": 3}}\n",
    "print(my_dict)"
   ]
  },
  {
   "cell_type": "markdown",
   "id": "858217bb-bcef-43f7-9d3b-4a28a5e4cad8",
   "metadata": {},
   "source": [
    "7. Using setdefault() method, create key named topics in the given dictionary and also add the value of\n",
    "the key as this list ['Python', 'Machine Learning’, 'Deep Learning']"
   ]
  },
  {
   "cell_type": "code",
   "execution_count": 18,
   "id": "57e7260d-79f5-4ab7-b787-1da9aaf83133",
   "metadata": {},
   "outputs": [
    {
     "name": "stdout",
     "output_type": "stream",
     "text": [
      "{'teacher': 'John', 'course': 'data science', 'topics': ['Python', 'Machine Learning', 'Deep Learning']}\n"
     ]
    }
   ],
   "source": [
    "my_dict = {\"teacher\": \"John\", \"course\": \"data science\"}\n",
    "\n",
    "# Use setdefault() to add the key \"topics\" and its value\n",
    "my_dict.setdefault(\"topics\", ['Python', 'Machine Learning', 'Deep Learning'])\n",
    "\n",
    "print(my_dict)\n"
   ]
  },
  {
   "cell_type": "markdown",
   "id": "63c98194-8a5f-49bc-bbb0-8e5f99e31e38",
   "metadata": {},
   "source": [
    "8. What are the three view objects in dictionaries? Use the three in-built methods in python to display\n",
    "these three view objects for the given dictionary.\n",
    "- with the method keys, we can see the keys of the entire dictionary\n",
    "- with values, display the associated values for the keys on the di"
   ]
  },
  {
   "cell_type": "code",
   "execution_count": 19,
   "id": "a13da367-b5d4-4f3d-ae4b-a3807236eaf7",
   "metadata": {},
   "outputs": [
    {
     "name": "stdout",
     "output_type": "stream",
     "text": [
      "dict_keys(['apple', 'banana', 'orange'])\n",
      "dict_values([2, 3, 1])\n",
      "dict_items([('apple', 2), ('banana', 3), ('orange', 1)])\n"
     ]
    }
   ],
   "source": [
    "my_dict = {\"apple\": 2, \"banana\": 3, \"orange\": 1}\n",
    "\n",
    "# Get the view objects using the three methods\n",
    "keys_view = my_dict.keys()\n",
    "values_view = my_dict.values()\n",
    "items_view = my_dict.items()\n",
    "\n",
    "# Print the view objects\n",
    "print(keys_view)\n",
    "print(values_view)\n",
    "print(items_view)"
   ]
  }
 ],
 "metadata": {
  "kernelspec": {
   "display_name": "Python 3 (ipykernel)",
   "language": "python",
   "name": "python3"
  },
  "language_info": {
   "codemirror_mode": {
    "name": "ipython",
    "version": 3
   },
   "file_extension": ".py",
   "mimetype": "text/x-python",
   "name": "python",
   "nbconvert_exporter": "python",
   "pygments_lexer": "ipython3",
   "version": "3.10.8"
  }
 },
 "nbformat": 4,
 "nbformat_minor": 5
}
