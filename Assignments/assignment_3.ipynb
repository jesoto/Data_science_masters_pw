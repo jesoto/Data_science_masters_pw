{
 "cells": [
  {
   "cell_type": "markdown",
   "id": "7ebfd2ac-0b87-46d9-b42a-58a543291d91",
   "metadata": {},
   "source": [
    "# Assignment 4/02/23"
   ]
  },
  {
   "cell_type": "markdown",
   "id": "25ba3fe9-0ee7-4108-a695-c9b037f4420f",
   "metadata": {},
   "source": [
    "1. Create a python program to sort the given list of tuples based on integer value using a\n",
    "lambda function.\n"
   ]
  },
  {
   "cell_type": "code",
   "execution_count": 1,
   "id": "9361df7c-b9eb-4b95-b98e-1a136c4532dc",
   "metadata": {},
   "outputs": [],
   "source": [
    "lista = [('Sachin Tendulkar', 34357), ('Ricky Ponting', 27483), ('Jack Kallis', 25534), ('Virat Kohli', 24936)]"
   ]
  },
  {
   "cell_type": "code",
   "execution_count": 4,
   "id": "a00d3c9e-5e79-4952-8a25-98df97e09ceb",
   "metadata": {},
   "outputs": [
    {
     "data": {
      "text/plain": [
       "[('Virat Kohli', 24936),\n",
       " ('Jack Kallis', 25534),\n",
       " ('Ricky Ponting', 27483),\n",
       " ('Sachin Tendulkar', 34357)]"
      ]
     },
     "execution_count": 4,
     "metadata": {},
     "output_type": "execute_result"
    }
   ],
   "source": [
    "sorted(lista, key = lambda x: x[1])\n"
   ]
  },
  {
   "cell_type": "code",
   "execution_count": 6,
   "id": "f0c8867b-bf5d-4576-8723-2c9b8e1a0873",
   "metadata": {},
   "outputs": [
    {
     "name": "stdout",
     "output_type": "stream",
     "text": [
      "[('Virat Kohli', 24936), ('Jack Kallis', 25534), ('Ricky Ponting', 27483), ('Sachin Tendulkar', 34357)]\n"
     ]
    }
   ],
   "source": [
    "lista.sort(key = lambda x : x[1])\n",
    "print(lista)"
   ]
  },
  {
   "cell_type": "markdown",
   "id": "01535ece-67a4-4809-ac77-0d7944e542de",
   "metadata": {},
   "source": [
    "2. Write a Python Program to find the squares of all the numbers in the given list of integers using\n",
    "lambda and map functions.\n"
   ]
  },
  {
   "cell_type": "code",
   "execution_count": 7,
   "id": "9516abd3-58f5-4408-b2f6-b37eb14062b4",
   "metadata": {},
   "outputs": [],
   "source": [
    "lista = [1, 2, 3, 4, 5, 6, 7, 8, 9, 10]"
   ]
  },
  {
   "cell_type": "code",
   "execution_count": 8,
   "id": "f133785d-8e42-4b60-9147-af91c0383a6d",
   "metadata": {},
   "outputs": [
    {
     "name": "stdout",
     "output_type": "stream",
     "text": [
      "[1, 4, 9, 16, 25, 36, 49, 64, 81, 100]\n"
     ]
    }
   ],
   "source": [
    "squares = list(map(lambda x: x**2, lista))\n",
    "print(squares)"
   ]
  },
  {
   "cell_type": "markdown",
   "id": "f13c6b46-4ebf-4030-a690-309f841db654",
   "metadata": {},
   "source": [
    "3. Write a python program to convert the given list of integers into a tuple of strings. Use map and\n",
    "lambda functions.\n",
    "Given String: [1, 2, 3, 4, 5, 6, 7, 8, 9, 10]\n",
    "Expected output: ('1', '2', '3', '4', '5', '6', '7', '8', '9', '10')"
   ]
  },
  {
   "cell_type": "code",
   "execution_count": 11,
   "id": "d9cf1a5d-5c63-47ec-bd9c-c1021be3a8a6",
   "metadata": {},
   "outputs": [
    {
     "name": "stdout",
     "output_type": "stream",
     "text": [
      "('1', '2', '3', '4', '5', '6', '7', '8', '9', '10')\n"
     ]
    }
   ],
   "source": [
    "print(tuple(map(lambda x: str(x), [1, 2, 3, 4, 5, 6, 7, 8, 9, 10]) ))"
   ]
  },
  {
   "cell_type": "markdown",
   "id": "a5834a0a-fee6-44ac-81d6-74052defe7e1",
   "metadata": {},
   "source": [
    "4. Write a python program using reduce function to compute the product of a list containing numbers\n",
    "from 1 to 25."
   ]
  },
  {
   "cell_type": "code",
   "execution_count": 19,
   "id": "c6c6c437-ec6b-47f9-a5d9-da6de42b1f77",
   "metadata": {},
   "outputs": [
    {
     "data": {
      "text/plain": [
       "15511210043330985984000000"
      ]
     },
     "execution_count": 19,
     "metadata": {},
     "output_type": "execute_result"
    }
   ],
   "source": [
    "lista = [i for i in range(1,26)]\n",
    "from functools import  reduce\n",
    "\n",
    "reduce(lambda x,y: x*y, lista)"
   ]
  },
  {
   "cell_type": "markdown",
   "id": "f3f8daf8-a2cc-4b84-a6ce-2c390d24ef93",
   "metadata": {},
   "source": [
    "5. Write a python program to filter the numbers in a given list that are divisible by 2 and 3 using the\n",
    "filter function."
   ]
  },
  {
   "cell_type": "code",
   "execution_count": 25,
   "id": "5a613481-29ff-43ee-8f78-9e7867373cb8",
   "metadata": {},
   "outputs": [
    {
     "data": {
      "text/plain": [
       "[6, 60, 90, 120]"
      ]
     },
     "execution_count": 25,
     "metadata": {},
     "output_type": "execute_result"
    }
   ],
   "source": [
    "lista = [2, 3, 6, 9, 27, 60, 90, 120, 55, 46]\n",
    "list(filter(lambda x:  ((x%2 == 0) and (x%3 == 0)), lista))"
   ]
  },
  {
   "cell_type": "markdown",
   "id": "79e9e48b-a939-42f6-87da-6b6b2e6b699b",
   "metadata": {},
   "source": [
    "6. Write a python program to find palindromes in the given list of strings using lambda and filter\n",
    "function.\n"
   ]
  },
  {
   "cell_type": "code",
   "execution_count": 27,
   "id": "83cbf801-5b8e-421b-9fc7-9873dbd8ee68",
   "metadata": {},
   "outputs": [],
   "source": [
    "lista = ['python', 'php', 'aba', 'radar', 'level']\n",
    "\n"
   ]
  },
  {
   "cell_type": "code",
   "execution_count": 31,
   "id": "fa4cfa31-bd99-4913-842f-4bc9f5dd24a2",
   "metadata": {},
   "outputs": [
    {
     "data": {
      "text/plain": [
       "['php', 'aba', 'radar', 'level']"
      ]
     },
     "execution_count": 31,
     "metadata": {},
     "output_type": "execute_result"
    }
   ],
   "source": [
    "list(filter(lambda x: x[::-1] == x, lista))\n"
   ]
  }
 ],
 "metadata": {
  "kernelspec": {
   "display_name": "Python 3 (ipykernel)",
   "language": "python",
   "name": "python3"
  },
  "language_info": {
   "codemirror_mode": {
    "name": "ipython",
    "version": 3
   },
   "file_extension": ".py",
   "mimetype": "text/x-python",
   "name": "python",
   "nbconvert_exporter": "python",
   "pygments_lexer": "ipython3",
   "version": "3.10.8"
  }
 },
 "nbformat": 4,
 "nbformat_minor": 5
}
