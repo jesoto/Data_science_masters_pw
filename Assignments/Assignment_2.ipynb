{
 "cells": [
  {
   "cell_type": "markdown",
   "id": "4e97f8fb-50dc-44b8-91fc-8b0e9e044127",
   "metadata": {},
   "source": [
    "# Assignment"
   ]
  },
  {
   "cell_type": "markdown",
   "id": "7138317d-9bd7-4125-ba4a-931bae454f8c",
   "metadata": {},
   "source": [
    "1. Which keyword is used to create a function? Create a function to return a list of odd numbers in the\n",
    "range of 1 to 25.\n",
    "- The keyword used to crate a function is **def**."
   ]
  },
  {
   "cell_type": "code",
   "execution_count": 16,
   "id": "0cbe42f3-30b9-4db1-945e-108a46d1937b",
   "metadata": {},
   "outputs": [],
   "source": [
    "def odds():\n",
    "    ods = []\n",
    "    for i in range(26):\n",
    "        if i %2 == 1 :\n",
    "            ods.append(i)\n",
    "    return ods"
   ]
  },
  {
   "cell_type": "code",
   "execution_count": 17,
   "id": "fc387f9f-9720-4049-9777-516eab96e40e",
   "metadata": {},
   "outputs": [
    {
     "name": "stdout",
     "output_type": "stream",
     "text": [
      "[1, 3, 5, 7, 9, 11, 13, 15, 17, 19, 21, 23, 25]\n"
     ]
    }
   ],
   "source": [
    "print(odds())"
   ]
  },
  {
   "cell_type": "markdown",
   "id": "1628ad69-faa3-40f7-8eec-301014ea784d",
   "metadata": {},
   "source": [
    "2. Why *args and **kwargs is used in some functions? Create a function each for *args and **kwargs to\n",
    "demonstrate their use."
   ]
  },
  {
   "cell_type": "markdown",
   "id": "80d3b86f-cddb-4526-bf53-a860df9a21fe",
   "metadata": {},
   "source": [
    "- **kwargs and *args are used in functions when you want to accpet an unknown number of arguments."
   ]
  },
  {
   "cell_type": "code",
   "execution_count": 18,
   "id": "d71e0c77-cda3-4dac-a00d-78b2b36c26d3",
   "metadata": {},
   "outputs": [
    {
     "name": "stdout",
     "output_type": "stream",
     "text": [
      "24\n",
      "300\n"
     ]
    }
   ],
   "source": [
    "def multiply(*args):\n",
    "    product = 1\n",
    "    for arg in args:\n",
    "        product *= arg\n",
    "    return product\n",
    "print(multiply(2, 3, 4)) # Output: 24\n",
    "print(multiply(5, 10, 2, 3)) # Output: 300\n"
   ]
  },
  {
   "cell_type": "code",
   "execution_count": 19,
   "id": "cdfe4fbf-8cbf-4fac-8b5f-18d6120107b5",
   "metadata": {},
   "outputs": [
    {
     "name": "stdout",
     "output_type": "stream",
     "text": [
      "name Alice\n",
      "age 25\n",
      "location New York\n"
     ]
    }
   ],
   "source": [
    "def print_kwargs(**kwargs):\n",
    "    for key, value in kwargs.items():\n",
    "        print(key, value)\n",
    "\n",
    "print_kwargs(name=\"Alice\", age=25, location=\"New York\") \n"
   ]
  },
  {
   "cell_type": "markdown",
   "id": "dafaefcb-27b1-4c0b-9dbb-14ec3baee6da",
   "metadata": {},
   "source": [
    "3. What is an iterator in python? Name the method used to initialise the iterator object and the method\n",
    "used for iteration. Use these methods to print the first five elements of the given list [2, 4, 6, 8, 10, 12, 14, 16,\n",
    "18, 20]."
   ]
  },
  {
   "cell_type": "markdown",
   "id": "27c873e8-3af3-499d-b5cd-721898e5c3f2",
   "metadata": {},
   "source": [
    "- An iterator in python is the for."
   ]
  },
  {
   "cell_type": "code",
   "execution_count": 22,
   "id": "920f623b-78ce-4622-8ff4-939b827c81ce",
   "metadata": {},
   "outputs": [],
   "source": [
    "def itera(a):\n",
    "    for i in range(5):\n",
    "        print(a[i])"
   ]
  },
  {
   "cell_type": "code",
   "execution_count": 23,
   "id": "a2af90bb-2ce3-4fab-af2b-f3af6794dcc8",
   "metadata": {},
   "outputs": [
    {
     "name": "stdout",
     "output_type": "stream",
     "text": [
      "2\n",
      "4\n",
      "6\n",
      "8\n",
      "10\n"
     ]
    }
   ],
   "source": [
    "itera([2, 4, 6, 8, 10, 12, 14, 16, 18, 20])"
   ]
  },
  {
   "cell_type": "markdown",
   "id": "56ac7147-2d5e-41a8-943f-0426d3bdef26",
   "metadata": {},
   "source": [
    "4. What is a generator function in python? Why yield keyword is used? Give an example of a generator\n",
    "function."
   ]
  },
  {
   "cell_type": "markdown",
   "id": "bfcf9ea9-c581-4570-9f5f-eab4a2edf6f6",
   "metadata": {},
   "source": [
    "- A generator function in Python is a special type of function that generates a sequence of values using the yield keyword\n",
    "- The yield keyword is used to return a value from the generator function and to suspend execution until the next value is requested. "
   ]
  },
  {
   "cell_type": "code",
   "execution_count": 25,
   "id": "c8b03904-9a4e-4099-a15a-aa72e8a0bca6",
   "metadata": {},
   "outputs": [
    {
     "name": "stdout",
     "output_type": "stream",
     "text": [
      "0\n",
      "1\n",
      "1\n",
      "2\n",
      "3\n",
      "5\n",
      "8\n",
      "13\n",
      "21\n",
      "34\n"
     ]
    }
   ],
   "source": [
    "def test_fib(n) :\n",
    "    a,b = 0,1\n",
    "    for i in range(n):\n",
    "        yield a \n",
    "        a,b = b ,a+b \n",
    "for i in test_fib(10) : \n",
    "    print(i)"
   ]
  },
  {
   "cell_type": "markdown",
   "id": "85082ef8-470c-4981-8d0e-caad295c0980",
   "metadata": {},
   "source": [
    "5. Create a generator function for prime numbers less than 1000. Use the next() method to print the\n",
    "first 20 prime numbers."
   ]
  },
  {
   "cell_type": "code",
   "execution_count": 26,
   "id": "b7d93f86-0545-4ee4-b70d-a68f28b6367a",
   "metadata": {},
   "outputs": [],
   "source": [
    "def prime_numbers():\n",
    "    # 2 is the first prime number\n",
    "    yield 2\n",
    "    \n",
    "    # iterate over odd numbers between 3 and 1000\n",
    "    for num in range(3, 1000, 2):\n",
    "        # check if the number is prime\n",
    "        for i in range(2, int(num**0.5) + 1):\n",
    "            if num % i == 0:\n",
    "                break\n",
    "        else:\n",
    "            yield num"
   ]
  },
  {
   "cell_type": "code",
   "execution_count": 27,
   "id": "17ff1df1-cf66-4558-a70a-d5328b1bc936",
   "metadata": {},
   "outputs": [
    {
     "name": "stdout",
     "output_type": "stream",
     "text": [
      "2\n",
      "3\n",
      "5\n",
      "7\n",
      "11\n",
      "13\n",
      "17\n",
      "19\n",
      "23\n",
      "29\n",
      "31\n",
      "37\n",
      "41\n",
      "43\n",
      "47\n",
      "53\n",
      "59\n",
      "61\n",
      "67\n",
      "71\n"
     ]
    }
   ],
   "source": [
    "# create a generator object for prime numbers\n",
    "gen = prime_numbers()\n",
    "\n",
    "# print the first 20 prime numbers\n",
    "for i in range(20):\n",
    "    print(next(gen))\n"
   ]
  }
 ],
 "metadata": {
  "kernelspec": {
   "display_name": "Python 3 (ipykernel)",
   "language": "python",
   "name": "python3"
  },
  "language_info": {
   "codemirror_mode": {
    "name": "ipython",
    "version": 3
   },
   "file_extension": ".py",
   "mimetype": "text/x-python",
   "name": "python",
   "nbconvert_exporter": "python",
   "pygments_lexer": "ipython3",
   "version": "3.10.8"
  }
 },
 "nbformat": 4,
 "nbformat_minor": 5
}
