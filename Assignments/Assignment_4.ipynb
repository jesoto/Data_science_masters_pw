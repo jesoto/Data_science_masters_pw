{
 "cells": [
  {
   "cell_type": "markdown",
   "id": "2f3b78c5-a918-4fab-a029-c07c40868d72",
   "metadata": {},
   "source": [
    "# Assignment 5/02/23"
   ]
  },
  {
   "cell_type": "markdown",
   "id": "e83c4469-d70a-489e-92ae-46e9f0c0d6d0",
   "metadata": {},
   "source": [
    "1. Explain Class and Object with respect to Object-Oriented Programming. Give a suitable example.\n",
    "- Class is an specific with atributes and characteristics. An object, on the other hand is an instances of a class. So, with an example, a class could be a number, an int, with his atttributes like that you can do operations with them. So in this context you can create an object named \"a\" that is a variable with the value 5."
   ]
  },
  {
   "cell_type": "code",
   "execution_count": 2,
   "id": "62933251-f43a-4d08-9fc8-f357217dfcb2",
   "metadata": {},
   "outputs": [
    {
     "name": "stdout",
     "output_type": "stream",
     "text": [
      "<class 'int'>\n"
     ]
    }
   ],
   "source": [
    "print(type(5)) # class int"
   ]
  },
  {
   "cell_type": "code",
   "execution_count": 4,
   "id": "586d1b81-9bb3-42f2-877d-ea8ec1553a02",
   "metadata": {},
   "outputs": [],
   "source": [
    "a = 5 #the object"
   ]
  },
  {
   "cell_type": "markdown",
   "id": "d5fce230-3660-4326-83cb-9383a8446409",
   "metadata": {},
   "source": [
    "2. Name the four pillars of OOPs.\n",
    "\n",
    "- Encapsulation\n",
    "- Inheritance\n",
    "- Polymorphism\n",
    "- Abstraction"
   ]
  },
  {
   "cell_type": "markdown",
   "id": "bd726804-ddba-46e6-9f6b-0b0dff9aa9c6",
   "metadata": {},
   "source": [
    "3. Explain why the __init__() function is used. Give a suitable example.\n",
    "- The \"__init__\" method is to insert the initial values for the object's attributes\n"
   ]
  },
  {
   "cell_type": "code",
   "execution_count": 5,
   "id": "24b5fd8d-6534-490c-9c6e-dd3ed818e533",
   "metadata": {},
   "outputs": [],
   "source": [
    "class Car:\n",
    "    def __init__(self, make, model, year):\n",
    "        self.make = make\n",
    "        self.model = model\n",
    "        self.year = year\n",
    "\n",
    "    def get_descriptive_name(self):\n",
    "        long_name = f\"{self.year} {self.make} {self.model}\"\n",
    "        return long_name.title()"
   ]
  },
  {
   "cell_type": "code",
   "execution_count": 8,
   "id": "cd3a5ed0-28d4-451d-a8ea-7ce384cd5f44",
   "metadata": {},
   "outputs": [],
   "source": [
    "my_first_car = Car(\"Toyota\", \"Yaris\", 2005)#ith the innit method we feed with the initial values"
   ]
  },
  {
   "cell_type": "code",
   "execution_count": 10,
   "id": "10df0dfe-9ad8-4df6-8ee9-c067c26f8a5b",
   "metadata": {},
   "outputs": [
    {
     "data": {
      "text/plain": [
       "'2005 Toyota Yaris'"
      ]
     },
     "execution_count": 10,
     "metadata": {},
     "output_type": "execute_result"
    }
   ],
   "source": [
    "my_first_car.get_descriptive_name() #now with that initial values, we can create another methods based on the prior information"
   ]
  },
  {
   "cell_type": "markdown",
   "id": "2c2e49c0-5876-4a53-bd71-a2f00a55028b",
   "metadata": {},
   "source": [
    "3. Why self is used in OOPs?"
   ]
  },
  {
   "cell_type": "markdown",
   "id": "49d0b774-2d5f-423b-9700-8317fecc64f1",
   "metadata": {},
   "source": [
    "- self is a special parameter that refers to the object being accessed or manipulated. It is used to access and modify the object's attributes and methods."
   ]
  },
  {
   "cell_type": "markdown",
   "id": "60e7fdd2-e837-417c-b243-bd7b6974d35d",
   "metadata": {},
   "source": [
    "4. What is inheritance? Give an example for each type of inheritance."
   ]
  },
  {
   "cell_type": "markdown",
   "id": "d6b75428-2359-45c3-a028-08898440baf6",
   "metadata": {},
   "source": [
    "In OOPS, inheritance is a mechanism that allows a new class to be based on an existing class, inheriting all of its properties and behaviors. The existing class is known as base class, and the new class is known as the subclass or derived class."
   ]
  },
  {
   "cell_type": "code",
   "execution_count": 14,
   "id": "c0447fff-21be-4986-a6c0-326c2ab46b7f",
   "metadata": {},
   "outputs": [
    {
     "name": "stdout",
     "output_type": "stream",
     "text": [
      "Buddy\n",
      "Woof!\n"
     ]
    }
   ],
   "source": [
    "#single inheritance\n",
    "class Animal:\n",
    "    def __init__(self, name):\n",
    "        self.name = name\n",
    "\n",
    "    def make_sound(self):\n",
    "        pass\n",
    "\n",
    "class Dog(Animal):\n",
    "    def make_sound(self):\n",
    "        return \"Woof!\"\n",
    "\n",
    "my_dog = Dog(\"Buddy\")\n",
    "print(my_dog.name) # Output: \"Buddy\"\n",
    "print(my_dog.make_sound()) # Output: \"Woof!\"\n"
   ]
  },
  {
   "cell_type": "code",
   "execution_count": 15,
   "id": "f67fd16b-b8b6-4438-82b6-4e073d3bced2",
   "metadata": {},
   "outputs": [
    {
     "name": "stdout",
     "output_type": "stream",
     "text": [
      "I can fly!\n",
      "I can swim!\n"
     ]
    }
   ],
   "source": [
    "#multiple inheritance\n",
    "class Flyer:\n",
    "    def fly(self):\n",
    "        return \"I can fly!\"\n",
    "\n",
    "class Swimmer:\n",
    "    def swim(self):\n",
    "        return \"I can swim!\"\n",
    "\n",
    "class FlyingFish(Flyer, Swimmer):\n",
    "    pass\n",
    "\n",
    "my_flying_fish = FlyingFish()\n",
    "print(my_flying_fish.fly()) # Output: \"I can fly!\"\n",
    "print(my_flying_fish.swim()) # Output: \"I can swim!\"\n"
   ]
  },
  {
   "cell_type": "code",
   "execution_count": 16,
   "id": "0bbeb2d7-5b2e-4dca-b7cd-8dea3b612fba",
   "metadata": {},
   "outputs": [
    {
     "name": "stdout",
     "output_type": "stream",
     "text": [
      "Honda\n"
     ]
    }
   ],
   "source": [
    "#hierarchical inheritance\n",
    "class Vehicle:\n",
    "    def __init__(self, make, model, year):\n",
    "        self.make = make\n",
    "        self.model = model\n",
    "        self.year = year\n",
    "\n",
    "class Car(Vehicle):\n",
    "    def __init__(self, make, model, year, num_doors):\n",
    "        super().__init__(make, model, year)\n",
    "        self.num_doors = num_doors\n",
    "\n",
    "class Truck(Vehicle):\n",
    "    def __init__(self, make, model, year, payload_capacity):\n",
    "        super().__init__(make, model, year)\n",
    "        self.payload_capacity = payload_capacity\n",
    "\n",
    "my_car = Car(\"Honda\", \"Civic\", 2019, 4)\n",
    "print(my_car.make) # Output: \"Honda\n"
   ]
  }
 ],
 "metadata": {
  "kernelspec": {
   "display_name": "Python 3 (ipykernel)",
   "language": "python",
   "name": "python3"
  },
  "language_info": {
   "codemirror_mode": {
    "name": "ipython",
    "version": 3
   },
   "file_extension": ".py",
   "mimetype": "text/x-python",
   "name": "python",
   "nbconvert_exporter": "python",
   "pygments_lexer": "ipython3",
   "version": "3.10.8"
  }
 },
 "nbformat": 4,
 "nbformat_minor": 5
}
